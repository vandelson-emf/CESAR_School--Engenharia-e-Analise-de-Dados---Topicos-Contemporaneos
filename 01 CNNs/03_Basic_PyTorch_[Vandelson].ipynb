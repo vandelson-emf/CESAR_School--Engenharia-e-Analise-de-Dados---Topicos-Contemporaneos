{
  "cells": [
    {
      "cell_type": "code",
      "execution_count": 1,
      "metadata": {
        "id": "vQSerVgD10i0"
      },
      "outputs": [],
      "source": [
        "# Importando PyTorch\n",
        "import torch"
      ]
    },
    {
      "cell_type": "markdown",
      "metadata": {
        "id": "gJMKTP5d10i6"
      },
      "source": [
        "# Introdução ao PyTorch\n",
        "\n",
        "## O que é PyTorch?\n",
        "PyTorch é uma biblioteca de aprendizado profundo de código aberto desenvolvida pelo Facebook's AI Research lab (FAIR). Ela é amplamente utilizada para tarefas de visão computacional e processamento de linguagem natural."
      ]
    },
    {
      "cell_type": "markdown",
      "metadata": {
        "id": "2R_diss510i8"
      },
      "source": [
        "### História e contexto\n",
        "PyTorch foi lançado em janeiro de 2017. Ele é baseado na biblioteca Torch, que é uma estrutura de aprendizado de máquina em Lua. PyTorch é conhecido por sua facilidade de uso e integração com Python, o que o torna popular entre pesquisadores e engenheiros.\n",
        "\n",
        "### Comparação com outras bibliotecas\n",
        "- **TensorFlow**: Desenvolvido pelo Google, TensorFlow é uma das bibliotecas de aprendizado profundo mais populares. Enquanto TensorFlow é conhecido por sua escalabilidade e produção, PyTorch é elogiado por sua facilidade de uso e flexibilidade.\n",
        "- **NumPy**: NumPy é uma biblioteca fundamental para computação científica em Python. PyTorch usa tensores, que são similares aos arrays do NumPy, mas com suporte para computação em GPU."
      ]
    },
    {
      "cell_type": "markdown",
      "metadata": {
        "id": "7Si-f1Uh10i-"
      },
      "source": [
        "## O que são tensores?\n",
        "Tensores são a estrutura de dados fundamental em PyTorch. Eles são similares aos arrays do NumPy, mas com suporte para computação em GPU.\n",
        "\n",
        "Tensores 1D, 2D, 3D, etc.\n",
        "- 1D: Vetores\n",
        "- 2D: Matrizes\n",
        "- 3D: Matrizes tridimensionais (cubos de dados)\n",
        "- ND: Tensores de N dimensões"
      ]
    },
    {
      "cell_type": "code",
      "execution_count": 2,
      "metadata": {
        "id": "Dq5f4GwP10i_",
        "colab": {
          "base_uri": "https://localhost:8080/"
        },
        "outputId": "762e5f4a-8de0-4f0c-b869-1ef81373aafc"
      },
      "outputs": [
        {
          "output_type": "stream",
          "name": "stdout",
          "text": [
            "tensor([1, 2, 3, 4])\n"
          ]
        }
      ],
      "source": [
        "# Tensor 1D\n",
        "tensor_1d = torch.tensor([1, 2, 3, 4])\n",
        "print(tensor_1d)"
      ]
    },
    {
      "cell_type": "code",
      "execution_count": 3,
      "metadata": {
        "id": "5PXIVVcM10jC",
        "colab": {
          "base_uri": "https://localhost:8080/"
        },
        "outputId": "756d6fe0-84e7-4998-8eb3-35da55099301"
      },
      "outputs": [
        {
          "output_type": "stream",
          "name": "stdout",
          "text": [
            "tensor([[1, 2, 3],\n",
            "        [4, 5, 6]])\n"
          ]
        }
      ],
      "source": [
        "# Tensor 2D\n",
        "tensor_2d = torch.tensor([[1, 2, 3], [4, 5, 6]])\n",
        "print(tensor_2d)"
      ]
    },
    {
      "cell_type": "code",
      "execution_count": 4,
      "metadata": {
        "id": "-wNMOZzW10jD",
        "colab": {
          "base_uri": "https://localhost:8080/"
        },
        "outputId": "e9cb8a26-8379-4c3e-dc97-1ceecfa86c51"
      },
      "outputs": [
        {
          "output_type": "stream",
          "name": "stdout",
          "text": [
            "tensor([[[1, 2],\n",
            "         [3, 4]],\n",
            "\n",
            "        [[5, 6],\n",
            "         [7, 8]]])\n"
          ]
        }
      ],
      "source": [
        "# Tensor 3D\n",
        "tensor_3d = torch.tensor([[[1, 2], [3, 4]], [[5, 6], [7, 8]]])\n",
        "print(tensor_3d)"
      ]
    },
    {
      "cell_type": "markdown",
      "metadata": {
        "id": "CXud_8a910jD"
      },
      "source": [
        "### Tipos de dados\n",
        "Os tensores em PyTorch suportam vários tipos de dados, como inteiros e floats. O tipo de dado pode ser especificado durante a criação do tensor."
      ]
    },
    {
      "cell_type": "code",
      "execution_count": 5,
      "metadata": {
        "id": "XC8J7Nv_10jE",
        "colab": {
          "base_uri": "https://localhost:8080/"
        },
        "outputId": "37d95792-8ed7-4fed-a0bd-a489826a6e89"
      },
      "outputs": [
        {
          "output_type": "stream",
          "name": "stdout",
          "text": [
            "tensor([1, 2, 3], dtype=torch.int32)\n"
          ]
        }
      ],
      "source": [
        "# Criação de um tensor de inteiros\n",
        "tensor_int = torch.tensor([1, 2, 3], dtype=torch.int32)\n",
        "print(tensor_int)"
      ]
    },
    {
      "cell_type": "code",
      "execution_count": 6,
      "metadata": {
        "id": "7RRPCo6L10jE",
        "colab": {
          "base_uri": "https://localhost:8080/"
        },
        "outputId": "c5c7f916-231a-4d95-edc6-f2b556ba71a9"
      },
      "outputs": [
        {
          "output_type": "stream",
          "name": "stdout",
          "text": [
            "tensor([1., 2., 3.])\n"
          ]
        }
      ],
      "source": [
        "# Criação de um tensor de floats\n",
        "tensor_float = torch.tensor([1.0, 2.0, 3.0], dtype=torch.float32)\n",
        "print(tensor_float)"
      ]
    },
    {
      "cell_type": "markdown",
      "metadata": {
        "id": "Whechhf410jF"
      },
      "source": [
        "## Funções de Criação de Tensores\n",
        "PyTorch fornece várias funções utilitárias para criar tensores de forma eficiente.\n",
        "\n",
        "- `torch.zeros`: Cria um tensor preenchido com zeros.\n",
        "- `torch.zeros_like`: Cria um tensor preenchido com zeros, com as mesmas dimensões de um tensor dado.\n",
        "- `torch.ones`: Cria um tensor preenchido com uns.\n",
        "- `torch.ones_like`: Cria um tensor preenchido com uns, com as mesmas dimensões de um tensor dado.\n",
        "- `torch.linspace`: Cria um tensor com valores linearmente espaçados entre dois pontos.\n",
        "- `torch.arange`: Cria um tensor com valores em uma faixa específica com um passo definido."
      ]
    },
    {
      "cell_type": "code",
      "execution_count": 7,
      "metadata": {
        "id": "9qd7crr010jF",
        "colab": {
          "base_uri": "https://localhost:8080/"
        },
        "outputId": "cc0e87ec-4a2b-47bb-c6d6-3892f38252b5"
      },
      "outputs": [
        {
          "output_type": "stream",
          "name": "stdout",
          "text": [
            "tensor([[[0., 0., 0., 0., 0.],\n",
            "         [0., 0., 0., 0., 0.],\n",
            "         [0., 0., 0., 0., 0.]],\n",
            "\n",
            "        [[0., 0., 0., 0., 0.],\n",
            "         [0., 0., 0., 0., 0.],\n",
            "         [0., 0., 0., 0., 0.]],\n",
            "\n",
            "        [[0., 0., 0., 0., 0.],\n",
            "         [0., 0., 0., 0., 0.],\n",
            "         [0., 0., 0., 0., 0.]]])\n"
          ]
        }
      ],
      "source": [
        "# Criação de tensores de zeros\n",
        "tensor_zeros = torch.zeros(3, 3, 5)\n",
        "print(tensor_zeros)"
      ]
    },
    {
      "cell_type": "code",
      "execution_count": 8,
      "metadata": {
        "id": "jFHRNs_P10jF",
        "colab": {
          "base_uri": "https://localhost:8080/"
        },
        "outputId": "f5e73c45-96b0-451d-9e0d-329a1f5b2080"
      },
      "outputs": [
        {
          "output_type": "stream",
          "name": "stdout",
          "text": [
            "tensor([[0, 0, 0],\n",
            "        [0, 0, 0]])\n"
          ]
        }
      ],
      "source": [
        "# Criação de tensores de zeros_like\n",
        "tensor_zeros_like = torch.zeros_like(tensor_2d)\n",
        "print(tensor_zeros_like)"
      ]
    },
    {
      "cell_type": "code",
      "execution_count": 9,
      "metadata": {
        "id": "6c1x7LHP10jG",
        "colab": {
          "base_uri": "https://localhost:8080/"
        },
        "outputId": "9736915b-c9ec-4f1b-bd56-09839d77cfed"
      },
      "outputs": [
        {
          "output_type": "stream",
          "name": "stdout",
          "text": [
            "tensor([[1., 1.],\n",
            "        [1., 1.]])\n"
          ]
        }
      ],
      "source": [
        "# Criação de tensores de uns\n",
        "tensor_ones = torch.ones(2, 2)\n",
        "print(tensor_ones)"
      ]
    },
    {
      "cell_type": "code",
      "execution_count": 10,
      "metadata": {
        "id": "MLdX7ycH10jG",
        "colab": {
          "base_uri": "https://localhost:8080/"
        },
        "outputId": "7bea7f3e-73ea-468d-c0d8-83922a293a14"
      },
      "outputs": [
        {
          "output_type": "stream",
          "name": "stdout",
          "text": [
            "tensor([[1, 1, 1],\n",
            "        [1, 1, 1]])\n"
          ]
        }
      ],
      "source": [
        "# Criação de tensores de ones_like\n",
        "tensor_ones_like = torch.ones_like(tensor_2d)\n",
        "print(tensor_ones_like)"
      ]
    },
    {
      "cell_type": "code",
      "execution_count": 11,
      "metadata": {
        "id": "4816bbx_10jG",
        "colab": {
          "base_uri": "https://localhost:8080/"
        },
        "outputId": "6974ae4e-0c08-4079-a034-2e8f0a82e2fb"
      },
      "outputs": [
        {
          "output_type": "stream",
          "name": "stdout",
          "text": [
            "tensor([ 0.0000,  2.5000,  5.0000,  7.5000, 10.0000])\n"
          ]
        }
      ],
      "source": [
        "# Linspace\n",
        "tensor_linspace = torch.linspace(0, 10, steps=5)\n",
        "print(tensor_linspace)"
      ]
    },
    {
      "cell_type": "code",
      "execution_count": 12,
      "metadata": {
        "id": "TByl7HAe10jH",
        "colab": {
          "base_uri": "https://localhost:8080/"
        },
        "outputId": "fb6d1dc5-9112-4bd2-c636-c4098bc70994"
      },
      "outputs": [
        {
          "output_type": "stream",
          "name": "stdout",
          "text": [
            "tensor([0.0000, 2.5000, 5.0000, 7.5000])\n"
          ]
        }
      ],
      "source": [
        "# Arange\n",
        "tensor_arange = torch.arange(0, 10, step=2.5)\n",
        "print(tensor_arange)"
      ]
    },
    {
      "cell_type": "markdown",
      "metadata": {
        "id": "rwa9wYUV10jH"
      },
      "source": [
        "## Indexação e Fatiamento\n",
        "A indexação e o fatiamento em PyTorch são similares ao NumPy, permitindo acessar e modificar partes específicas de um tensor."
      ]
    },
    {
      "cell_type": "code",
      "execution_count": 13,
      "metadata": {
        "id": "GlX4r5WE10jH",
        "colab": {
          "base_uri": "https://localhost:8080/"
        },
        "outputId": "865d8c5a-6808-4fb5-e9e3-e1befaff17f9"
      },
      "outputs": [
        {
          "output_type": "stream",
          "name": "stdout",
          "text": [
            "Tensor original:\n",
            " tensor([[1, 2, 3],\n",
            "        [4, 5, 6],\n",
            "        [7, 8, 9]])\n"
          ]
        }
      ],
      "source": [
        "# Criando um tensor de exemplo\n",
        "tensor = torch.tensor([[1, 2, 3], [4, 5, 6], [7, 8, 9]])\n",
        "print(\"Tensor original:\\n\", tensor)"
      ]
    },
    {
      "cell_type": "code",
      "execution_count": 14,
      "metadata": {
        "id": "-5Zaa1Tl10jH",
        "colab": {
          "base_uri": "https://localhost:8080/"
        },
        "outputId": "68b7218c-ca2b-42ae-f0d5-95f05400cc9b"
      },
      "outputs": [
        {
          "output_type": "stream",
          "name": "stdout",
          "text": [
            "Elemento na posição [1, 2]: tensor(6)\n"
          ]
        }
      ],
      "source": [
        "# Indexação por elementos específicos\n",
        "print(\"Elemento na posição [1, 2]:\", tensor[1, 2])  # Acessa o valor '6'"
      ]
    },
    {
      "cell_type": "code",
      "execution_count": 15,
      "metadata": {
        "id": "ngFDt2zJ10jH",
        "colab": {
          "base_uri": "https://localhost:8080/"
        },
        "outputId": "80344a36-7e7f-4d37-d0b6-1ecf8f6d694c"
      },
      "outputs": [
        {
          "output_type": "stream",
          "name": "stdout",
          "text": [
            "Primeira linha: tensor([1, 2, 3])\n",
            "Segunda coluna: tensor([2, 5, 8])\n"
          ]
        }
      ],
      "source": [
        "# Indexação\n",
        "print(\"Primeira linha:\", tensor[0, :])  # Obtendo a primeira linha\n",
        "print(\"Segunda coluna:\", tensor[:, 1])  # Obtendo a segunda coluna"
      ]
    },
    {
      "cell_type": "code",
      "execution_count": 16,
      "metadata": {
        "id": "5koUn5nc10jH",
        "colab": {
          "base_uri": "https://localhost:8080/"
        },
        "outputId": "f6ae24d7-3fd1-4b31-caa0-fd2ca33e6f9e"
      },
      "outputs": [
        {
          "output_type": "stream",
          "name": "stdout",
          "text": [
            "Subtensor a partir da segunda linha e segunda coluna:\n",
            " tensor([[5, 6],\n",
            "        [8, 9]])\n"
          ]
        }
      ],
      "source": [
        "# Fatiamento\n",
        "print(\"Subtensor a partir da segunda linha e segunda coluna:\\n\", tensor[1:, 1:])"
      ]
    },
    {
      "cell_type": "code",
      "execution_count": 17,
      "metadata": {
        "id": "GugPbLT-10jI",
        "colab": {
          "base_uri": "https://localhost:8080/"
        },
        "outputId": "88d00dda-f91c-4ae8-c498-759769cc513a"
      },
      "outputs": [
        {
          "output_type": "stream",
          "name": "stdout",
          "text": [
            "Subtensor pulando uma linha e uma coluna:\n",
            " tensor([[1, 3],\n",
            "        [7, 9]])\n"
          ]
        }
      ],
      "source": [
        "# Exemplo de fatiamento complexo: pulando elementos\n",
        "print(\"Subtensor pulando uma linha e uma coluna:\\n\", tensor[::2, ::2])  # Pulando linhas e colunas"
      ]
    },
    {
      "cell_type": "code",
      "execution_count": 18,
      "metadata": {
        "id": "bXXW-0Ua10jI",
        "colab": {
          "base_uri": "https://localhost:8080/"
        },
        "outputId": "42d373ce-86cd-4ea7-87c1-e3e4d89120dd"
      },
      "outputs": [
        {
          "output_type": "stream",
          "name": "stdout",
          "text": [
            "Última linha do tensor: tensor([7, 8, 9])\n",
            "Última coluna do tensor: tensor([3, 6, 9])\n"
          ]
        }
      ],
      "source": [
        "# Fatiamento com valores negativos\n",
        "print(\"Última linha do tensor:\", tensor[-1, :])  # Acessando a última linha\n",
        "print(\"Última coluna do tensor:\", tensor[:, -1])  # Acessando a última coluna"
      ]
    },
    {
      "cell_type": "markdown",
      "metadata": {
        "id": "kMViEWxt10jI"
      },
      "source": [
        "## Operações básicas com tensores\n",
        "PyTorch suporta várias operações básicas com tensores, como adição, multiplicação, subtração e divisão."
      ]
    },
    {
      "cell_type": "code",
      "execution_count": 19,
      "metadata": {
        "id": "3cEL3keL10jI",
        "colab": {
          "base_uri": "https://localhost:8080/"
        },
        "outputId": "9b4faba3-d3cd-4c24-8e1f-687c4cca64d6"
      },
      "outputs": [
        {
          "output_type": "stream",
          "name": "stdout",
          "text": [
            "+ tensor([5, 7, 9])\n",
            "* tensor([ 4, 10, 18])\n",
            "- tensor([-3, -3, -3])\n",
            "/ tensor([0.2500, 0.4000, 0.5000])\n",
            "Dot Product = a[0]*b[0] + a[1]*b[1] + a[2]*b[2]\n",
            "32 = 32\n"
          ]
        }
      ],
      "source": [
        "a = torch.tensor([1, 2, 3])\n",
        "b = torch.tensor([4, 5, 6])\n",
        "\n",
        "# Adição\n",
        "print(\"+\", a + b)\n",
        "\n",
        "# Multiplicação\n",
        "print(\"*\", a * b)\n",
        "\n",
        "# Subtração\n",
        "print(\"-\", a - b)\n",
        "\n",
        "# Divisão\n",
        "print(\"/\", a / b)\n",
        "\n",
        "# Produto escalar\n",
        "'''\n",
        "a[0]*b[0] + a[1]*b[1] + a[2]*b[2]\n",
        "'''\n",
        "dot_product = torch.dot(a, b)\n",
        "print('Dot Product = a[0]*b[0] + a[1]*b[1] + a[2]*b[2]')\n",
        "print(f'{dot_product} = {a[0]*b[0] + a[1]*b[1] + a[2]*b[2]}')"
      ]
    },
    {
      "cell_type": "markdown",
      "metadata": {
        "id": "qGsmBwoN10jI"
      },
      "source": [
        "## Manipulando formato (shape)"
      ]
    },
    {
      "cell_type": "code",
      "execution_count": 20,
      "metadata": {
        "id": "kh_kvBs810jI",
        "colab": {
          "base_uri": "https://localhost:8080/"
        },
        "outputId": "40c98424-b05f-4cdb-f546-cadf6d2649fd"
      },
      "outputs": [
        {
          "output_type": "stream",
          "name": "stdout",
          "text": [
            "tensor([[ 0,  1,  2],\n",
            "        [ 3,  4,  5],\n",
            "        [ 6,  7,  8],\n",
            "        [ 9, 10, 11]])\n"
          ]
        }
      ],
      "source": [
        "tensor = torch.arange(12).reshape(4, 3)\n",
        "print(tensor)"
      ]
    },
    {
      "cell_type": "code",
      "source": [
        "tensor = torch.arange(12).reshape(-1, 4)\n",
        "print(tensor)\n",
        "\n",
        "tensor = torch.arange(12).reshape(4, -1)\n",
        "print(\"\\n\", tensor)\n",
        "\n",
        "tensor = torch.arange(12).reshape(-1) # Equivale ao flatten()\n",
        "print(\"\\n\", tensor)"
      ],
      "metadata": {
        "colab": {
          "base_uri": "https://localhost:8080/"
        },
        "id": "2m6FCZNqr6Ph",
        "outputId": "8fc3c4b1-aeb9-46bd-83b2-3a67b3ff31ee"
      },
      "execution_count": 21,
      "outputs": [
        {
          "output_type": "stream",
          "name": "stdout",
          "text": [
            "tensor([[ 0,  1,  2,  3],\n",
            "        [ 4,  5,  6,  7],\n",
            "        [ 8,  9, 10, 11]])\n",
            "\n",
            " tensor([[ 0,  1,  2],\n",
            "        [ 3,  4,  5],\n",
            "        [ 6,  7,  8],\n",
            "        [ 9, 10, 11]])\n",
            "\n",
            " tensor([ 0,  1,  2,  3,  4,  5,  6,  7,  8,  9, 10, 11])\n"
          ]
        }
      ]
    },
    {
      "cell_type": "code",
      "execution_count": 22,
      "metadata": {
        "id": "WZOpfZ1l10jI",
        "colab": {
          "base_uri": "https://localhost:8080/"
        },
        "outputId": "893e308d-759d-47c9-89b7-6b1f905b6060"
      },
      "outputs": [
        {
          "output_type": "stream",
          "name": "stdout",
          "text": [
            "tensor([[ 0,  1],\n",
            "        [ 2,  3],\n",
            "        [ 4,  5],\n",
            "        [ 6,  7],\n",
            "        [ 8,  9],\n",
            "        [10, 11]])\n"
          ]
        }
      ],
      "source": [
        "# View\n",
        "tensor_reshaped = tensor.view(6, 2)\n",
        "print(tensor_reshaped)"
      ]
    },
    {
      "cell_type": "code",
      "execution_count": 23,
      "metadata": {
        "id": "IsF9YX4f10jJ",
        "colab": {
          "base_uri": "https://localhost:8080/"
        },
        "outputId": "241c0191-6614-4186-e196-b6cfa102aa56"
      },
      "outputs": [
        {
          "output_type": "stream",
          "name": "stdout",
          "text": [
            "tensor([ 0,  1,  2,  3,  4,  5,  6,  7,  8,  9, 10, 11])\n"
          ]
        }
      ],
      "source": [
        "# Transpose\n",
        "tensor_transposed = tensor.t()\n",
        "print(tensor_transposed)"
      ]
    },
    {
      "cell_type": "markdown",
      "metadata": {
        "id": "bhAGxAh710jJ"
      },
      "source": [
        "### Flatten\n",
        "A função flatten retorna um tensor 1D contendo todos os elementos do tensor original"
      ]
    },
    {
      "cell_type": "code",
      "execution_count": 24,
      "metadata": {
        "id": "ZlZg1_0M10jJ",
        "colab": {
          "base_uri": "https://localhost:8080/"
        },
        "outputId": "303bece2-ac6a-46c4-f83f-b3ac004a6371"
      },
      "outputs": [
        {
          "output_type": "stream",
          "name": "stdout",
          "text": [
            "tensor([ 0,  1,  2,  3,  4,  5,  6,  7,  8,  9, 10, 11])\n"
          ]
        }
      ],
      "source": [
        "# Flatten\n",
        "tensor_flattened = tensor.flatten()\n",
        "print(tensor_flattened)"
      ]
    },
    {
      "cell_type": "code",
      "execution_count": 25,
      "metadata": {
        "id": "C21URaLG10jJ",
        "colab": {
          "base_uri": "https://localhost:8080/"
        },
        "outputId": "77b38787-552b-4541-9c67-fd889606de0e"
      },
      "outputs": [
        {
          "output_type": "stream",
          "name": "stdout",
          "text": [
            "tensor([[[[ 0],\n",
            "          [ 1],\n",
            "          [ 2],\n",
            "          [ 3],\n",
            "          [ 4],\n",
            "          [ 5]],\n",
            "\n",
            "         [[ 6],\n",
            "          [ 7],\n",
            "          [ 8],\n",
            "          [ 9],\n",
            "          [10],\n",
            "          [11]]]])\n",
            "torch.Size([1, 2, 6, 1])\n"
          ]
        }
      ],
      "source": [
        "# Reshape\n",
        "tensor_reshaped = tensor.reshape(1, 2, 6, 1)\n",
        "print(tensor_reshaped)\n",
        "print(tensor_reshaped.shape)"
      ]
    },
    {
      "cell_type": "markdown",
      "metadata": {
        "id": "-fTC_b6o10jJ"
      },
      "source": [
        "### Squeeze e Unsqueeze\n",
        "- `squeeze`: Remove dimensões de tamanho 1 de um tensor.\n",
        "- `unsqueeze`: Adiciona uma dimensão de tamanho 1 em um tensor."
      ]
    },
    {
      "cell_type": "code",
      "source": [
        "print (tensor_reshaped)\n",
        "print (tensor_reshaped.shape)"
      ],
      "metadata": {
        "colab": {
          "base_uri": "https://localhost:8080/"
        },
        "id": "yLgADzOXhkDc",
        "outputId": "653edd23-beb8-4256-db71-7c2f43f04601"
      },
      "execution_count": 26,
      "outputs": [
        {
          "output_type": "stream",
          "name": "stdout",
          "text": [
            "tensor([[[[ 0],\n",
            "          [ 1],\n",
            "          [ 2],\n",
            "          [ 3],\n",
            "          [ 4],\n",
            "          [ 5]],\n",
            "\n",
            "         [[ 6],\n",
            "          [ 7],\n",
            "          [ 8],\n",
            "          [ 9],\n",
            "          [10],\n",
            "          [11]]]])\n",
            "torch.Size([1, 2, 6, 1])\n"
          ]
        }
      ]
    },
    {
      "cell_type": "code",
      "execution_count": 27,
      "metadata": {
        "id": "_DhqBHei10jK",
        "colab": {
          "base_uri": "https://localhost:8080/"
        },
        "outputId": "69c5c839-732f-4183-b3b9-b9d2e218ec59"
      },
      "outputs": [
        {
          "output_type": "stream",
          "name": "stdout",
          "text": [
            "tensor([[ 0,  1,  2,  3,  4,  5],\n",
            "        [ 6,  7,  8,  9, 10, 11]])\n",
            "torch.Size([2, 6])\n"
          ]
        }
      ],
      "source": [
        "# Squeeze\n",
        "tensor_squeezed = tensor_reshaped.squeeze()\n",
        "print(tensor_squeezed)\n",
        "print(tensor_squeezed.shape)"
      ]
    },
    {
      "cell_type": "code",
      "execution_count": 28,
      "metadata": {
        "id": "f1gtEHWF10jK",
        "colab": {
          "base_uri": "https://localhost:8080/"
        },
        "outputId": "b5779c26-cc07-40c6-e3c0-19f91aeb985a"
      },
      "outputs": [
        {
          "output_type": "stream",
          "name": "stdout",
          "text": [
            "tensor([[[ 0,  1,  2,  3,  4,  5],\n",
            "         [ 6,  7,  8,  9, 10, 11]]])\n",
            "torch.Size([1, 2, 6])\n"
          ]
        }
      ],
      "source": [
        "# Unsqueeze\n",
        "tensor_unsqueezed = tensor_squeezed.unsqueeze(dim=0)\n",
        "print(tensor_unsqueezed)\n",
        "print(tensor_unsqueezed.shape)"
      ]
    },
    {
      "cell_type": "markdown",
      "metadata": {
        "id": "Qs_d0MV510jK"
      },
      "source": [
        "## Broadcasting\n",
        "O broadcasting é uma técnica que permite que tensores de diferentes formas sejam utilizados juntos em operações aritméticas. Em vez de copiar dados, o PyTorch ajusta os tensores de forma automática para que tenham formas compatíveis."
      ]
    },
    {
      "cell_type": "markdown",
      "metadata": {
        "id": "9yikp_Cu10jK"
      },
      "source": [
        "### Adição de um Escalar\n",
        "\n",
        "Quando adicionamos um escalar a um tensor, o escalar é automaticamente expandido para a forma do tensor:"
      ]
    },
    {
      "cell_type": "code",
      "execution_count": 29,
      "metadata": {
        "id": "yLC17l9X10jK",
        "colab": {
          "base_uri": "https://localhost:8080/"
        },
        "outputId": "e355df08-469f-49f5-89b1-e5798b3e6c3f"
      },
      "outputs": [
        {
          "output_type": "stream",
          "name": "stdout",
          "text": [
            "tensor([[11, 12, 13],\n",
            "        [14, 15, 16]])\n"
          ]
        }
      ],
      "source": [
        "# Cria um tensor 2x3\n",
        "tensor = torch.tensor([[1, 2, 3], [4, 5, 6]])\n",
        "\n",
        "# Adiciona um escalar\n",
        "scalar = 10\n",
        "\n",
        "# Broadcasting para adicionar o escalar a cada elemento do tensor\n",
        "result = tensor + scalar\n",
        "print(result)"
      ]
    },
    {
      "cell_type": "markdown",
      "metadata": {
        "id": "SlQEjDp710jQ"
      },
      "source": [
        "### Adição de Tensores com Diferentes Dimensões\n",
        "\n",
        "Vamos adicionar um tensor 2x3 com um tensor 1x3. Neste caso, o tensor 1x3 será expandido (broadcasted) para uma forma 2x3:"
      ]
    },
    {
      "cell_type": "code",
      "execution_count": 30,
      "metadata": {
        "id": "m1yTNzO210jQ",
        "colab": {
          "base_uri": "https://localhost:8080/"
        },
        "outputId": "f648507a-9e87-49dc-a6cf-8c59b270e53b"
      },
      "outputs": [
        {
          "output_type": "stream",
          "name": "stdout",
          "text": [
            "tensor([[11, 22, 33],\n",
            "        [14, 25, 36]])\n"
          ]
        }
      ],
      "source": [
        "# Cria um tensor 2x3\n",
        "tensor_a = torch.tensor([[1, 2, 3], [4, 5, 6]])\n",
        "\n",
        "# Cria um tensor 1x3\n",
        "tensor_b = torch.tensor([10, 20, 30])\n",
        "\n",
        "# Broadcasting para adicionar tensores de diferentes formas\n",
        "result = tensor_a + tensor_b\n",
        "print(result)"
      ]
    },
    {
      "cell_type": "markdown",
      "metadata": {
        "id": "l-MBKysP10jQ"
      },
      "source": [
        "### Regras de Broadcasting\n",
        "\n",
        "Para que o broadcasting funcione, os tensores devem seguir algumas regras:\n",
        "\n",
        "1. **Compatibilidade de Dimensões**: As dimensões dos tensores devem ser compatíveis. Duas dimensões são compatíveis se forem iguais ou se uma delas for 1.\n",
        "2. **Expansão Automática**: Se uma dimensão de um tensor for 1, ela será expandida para corresponder à dimensão do outro tensor.\n",
        "\n",
        "No exemplo a seguir, o tensor `tensor_c` de forma 2x1 é expandido para 2x3, e o tensor `tensor_d` de forma 1x3 é expandido para 2x3. O resultado é um tensor 2x3 onde cada elemento é o produto dos elementos correspondentes."
      ]
    },
    {
      "cell_type": "code",
      "execution_count": 31,
      "metadata": {
        "id": "ZC9J1oml10jR",
        "colab": {
          "base_uri": "https://localhost:8080/"
        },
        "outputId": "0dc9d6d0-e4e0-4b91-bcfa-32a1eb57bc5c"
      },
      "outputs": [
        {
          "output_type": "stream",
          "name": "stdout",
          "text": [
            "tensor([[10, 20, 30],\n",
            "        [20, 40, 60]])\n"
          ]
        }
      ],
      "source": [
        "# Cria um tensor 2x1\n",
        "tensor_c = torch.tensor([[1], [2]])\n",
        "\n",
        "# Cria um tensor 1x3\n",
        "tensor_d = torch.tensor([10, 20, 30])\n",
        "\n",
        "# Broadcasting para multiplicar tensores de diferentes formas\n",
        "result = tensor_c * tensor_d\n",
        "print(result)"
      ]
    },
    {
      "cell_type": "markdown",
      "metadata": {
        "id": "DfO7ya7v10jR"
      },
      "source": [
        "## Operações de Redução em PyTorch\n",
        "\n",
        "As operações de redução são usadas para reduzir as dimensões de um tensor, aplicando operações como soma, média, mínimo e máximo. Essas operações são fundamentais em várias aplicações de machine learning e deep learning."
      ]
    },
    {
      "cell_type": "code",
      "execution_count": 32,
      "metadata": {
        "id": "USQbJCOs10jR",
        "colab": {
          "base_uri": "https://localhost:8080/"
        },
        "outputId": "4aee9289-bdff-4321-ea8d-3b1027468da7"
      },
      "outputs": [
        {
          "output_type": "stream",
          "name": "stdout",
          "text": [
            "Tensor original:\n",
            " tensor([[1., 2., 3.],\n",
            "        [4., 5., 6.]])\n",
            "Shape: torch.Size([2, 3])\n"
          ]
        }
      ],
      "source": [
        "# Cria um tensor 2x3\n",
        "tensor = torch.tensor([[1.0, 2.0, 3.0], [4.0, 5.0, 6.0]])\n",
        "print(\"Tensor original:\\n\", tensor)\n",
        "print('Shape:', tensor.shape)"
      ]
    },
    {
      "cell_type": "markdown",
      "metadata": {
        "id": "EDnZfDol10jR"
      },
      "source": [
        "### Soma de Todos os Elementos\n",
        "\n",
        "A função `torch.sum` calcula a soma de todos os elementos do tensor:"
      ]
    },
    {
      "cell_type": "code",
      "execution_count": 33,
      "metadata": {
        "id": "xshuL1cC10jR",
        "colab": {
          "base_uri": "https://localhost:8080/"
        },
        "outputId": "153313c5-ad79-4768-b839-2715553bd3bb"
      },
      "outputs": [
        {
          "output_type": "stream",
          "name": "stdout",
          "text": [
            "Soma de todos os elementos: 21.0\n"
          ]
        }
      ],
      "source": [
        "# Soma de todos os elementos do tensor\n",
        "sum_all = torch.sum(tensor)\n",
        "print(\"Soma de todos os elementos:\", sum_all.item())"
      ]
    },
    {
      "cell_type": "markdown",
      "metadata": {
        "id": "YxC91G3H10jR"
      },
      "source": [
        "### Soma ao Longo de um Eixo\n",
        "\n",
        "Podemos calcular a soma ao longo de um eixo específico, usando o parâmetro `dim`:"
      ]
    },
    {
      "cell_type": "code",
      "execution_count": 34,
      "metadata": {
        "id": "_2kPTf1K10jR",
        "colab": {
          "base_uri": "https://localhost:8080/"
        },
        "outputId": "33c5ffe0-f098-4782-d036-e5d85ad8d39e"
      },
      "outputs": [
        {
          "output_type": "stream",
          "name": "stdout",
          "text": [
            "Soma ao longo do eixo 0 (linhas): tensor([5., 7., 9.])\n",
            "torch.Size([3])\n"
          ]
        }
      ],
      "source": [
        "# Soma ao longo do eixo 0 (linhas)\n",
        "sum_dim0 = torch.sum(tensor, dim=0) # ao inves de dim, pode usar axis\n",
        "print(\"Soma ao longo do eixo 0 (linhas):\", sum_dim0)\n",
        "print(sum_dim0.shape)"
      ]
    },
    {
      "cell_type": "code",
      "execution_count": 35,
      "metadata": {
        "id": "jdwzuMCc10jR",
        "colab": {
          "base_uri": "https://localhost:8080/"
        },
        "outputId": "b9a3e484-1d57-4d13-8a2c-5277b1f60bf6"
      },
      "outputs": [
        {
          "output_type": "stream",
          "name": "stdout",
          "text": [
            "Soma ao longo do eixo 1 (colunas): tensor([ 6., 15.])\n",
            "torch.Size([2])\n"
          ]
        }
      ],
      "source": [
        "# Soma ao longo do eixo 1 (colunas)\n",
        "sum_dim1 = torch.sum(tensor, dim=1)\n",
        "print(\"Soma ao longo do eixo 1 (colunas):\", sum_dim1)\n",
        "print(sum_dim1.shape)"
      ]
    },
    {
      "cell_type": "markdown",
      "metadata": {
        "id": "YFV7czE_10jS"
      },
      "source": [
        "### Média dos Elementos\n",
        "\n",
        "A função `torch.mean` calcula a média dos elementos do tensor:"
      ]
    },
    {
      "cell_type": "code",
      "execution_count": 36,
      "metadata": {
        "id": "FqYqPWUE10jS",
        "colab": {
          "base_uri": "https://localhost:8080/"
        },
        "outputId": "264ed8e4-b2b1-4fe5-c17a-b064e28c618b"
      },
      "outputs": [
        {
          "output_type": "stream",
          "name": "stdout",
          "text": [
            "Média de todos os elementos: 3.5\n"
          ]
        }
      ],
      "source": [
        "# Média de todos os elementos do tensor\n",
        "mean_all = torch.mean(tensor)\n",
        "print(\"Média de todos os elementos:\", mean_all.item())"
      ]
    },
    {
      "cell_type": "code",
      "execution_count": 37,
      "metadata": {
        "id": "4tVhPiN810jS",
        "colab": {
          "base_uri": "https://localhost:8080/"
        },
        "outputId": "aa08f418-f172-46f7-f852-fd44ff6ffb2c"
      },
      "outputs": [
        {
          "output_type": "stream",
          "name": "stdout",
          "text": [
            "Média ao longo do eixo 0 (linhas): tensor([2.5000, 3.5000, 4.5000])\n",
            "torch.Size([3])\n"
          ]
        }
      ],
      "source": [
        "# Média ao longo do eixo 0 (linhas)\n",
        "mean_dim0 = torch.mean(tensor, dim=0)\n",
        "print(\"Média ao longo do eixo 0 (linhas):\", mean_dim0)\n",
        "print(mean_dim0.shape)"
      ]
    },
    {
      "cell_type": "code",
      "execution_count": 38,
      "metadata": {
        "id": "_SN_Tfz910jS",
        "colab": {
          "base_uri": "https://localhost:8080/"
        },
        "outputId": "f7f9675c-e6f5-4945-8489-afc503cf80e2"
      },
      "outputs": [
        {
          "output_type": "stream",
          "name": "stdout",
          "text": [
            "Média ao longo do eixo 1 (colunas): tensor([2., 5.])\n",
            "torch.Size([2])\n"
          ]
        }
      ],
      "source": [
        "# Média ao longo do eixo 1 (colunas)\n",
        "mean_dim1 = torch.mean(tensor, dim=1)\n",
        "print(\"Média ao longo do eixo 1 (colunas):\", mean_dim1)\n",
        "print(mean_dim1.shape)"
      ]
    },
    {
      "cell_type": "markdown",
      "metadata": {
        "id": "wnb9TtXF10jS"
      },
      "source": [
        "### Valor Mínimo e Máximo\n",
        "\n",
        "Podemos encontrar o valor mínimo e máximo de um tensor usando `torch.min` e `torch.max`:"
      ]
    },
    {
      "cell_type": "code",
      "execution_count": 39,
      "metadata": {
        "id": "bZGtKq_N10jS",
        "colab": {
          "base_uri": "https://localhost:8080/"
        },
        "outputId": "468f841e-a83f-457e-ec13-ac74a9a25695"
      },
      "outputs": [
        {
          "output_type": "stream",
          "name": "stdout",
          "text": [
            "Valor mínimo de todos os elementos: tensor(1.)\n",
            "\n",
            "Valor máximo de todos os elementos: tensor(6.)\n",
            "\n",
            "Valor mínimo ao longo do eixo 0 (linhas): tensor([1., 2., 3.])\n",
            "Índices dos valores mínimos ao longo do eixo 0 (linhas): tensor([0, 0, 0])\n",
            "\n",
            "Valor máximo ao longo do eixo 1 (colunas): tensor([3., 6.])\n",
            "Índices dos valores máximos ao longo do eixo 1 (colunas): tensor([2, 2])\n"
          ]
        }
      ],
      "source": [
        "# Valor mínimo de todos os elementos do tensor\n",
        "min_all = torch.min(tensor)\n",
        "print(\"Valor mínimo de todos os elementos:\", min_all)\n",
        "print()\n",
        "\n",
        "# Valor máximo de todos os elementos do tensor\n",
        "max_all = torch.max(tensor)\n",
        "print(\"Valor máximo de todos os elementos:\", max_all)\n",
        "print()\n",
        "\n",
        "# Valor mínimo ao longo do eixo 0 (linhas)\n",
        "min_dim0, min_indices_dim0 = torch.min(tensor, dim=0)\n",
        "print(\"Valor mínimo ao longo do eixo 0 (linhas):\", min_dim0)\n",
        "print(\"Índices dos valores mínimos ao longo do eixo 0 (linhas):\", min_indices_dim0)\n",
        "print()\n",
        "\n",
        "# Valor máximo ao longo do eixo 1 (colunas)\n",
        "max_dim1, max_indices_dim1 = torch.max(tensor, dim=1)\n",
        "print(\"Valor máximo ao longo do eixo 1 (colunas):\", max_dim1)\n",
        "print(\"Índices dos valores máximos ao longo do eixo 1 (colunas):\", max_indices_dim1)"
      ]
    },
    {
      "cell_type": "markdown",
      "metadata": {
        "id": "A1tNTN_410jS"
      },
      "source": [
        "### Produto dos Elementos\n",
        "\n",
        "A função `torch.prod` calcula o produto de todos os elementos do tensor:"
      ]
    },
    {
      "cell_type": "code",
      "execution_count": 40,
      "metadata": {
        "id": "hqnONQwS10jS",
        "colab": {
          "base_uri": "https://localhost:8080/"
        },
        "outputId": "fa3736af-9d57-4e01-d849-4cd3e355478d"
      },
      "outputs": [
        {
          "output_type": "stream",
          "name": "stdout",
          "text": [
            "Produto de todos os elementos: tensor(720.)\n",
            "\n",
            "Produto ao longo do eixo 0 (linhas): tensor([ 4., 10., 18.])\n",
            "\n",
            "Produto ao longo do eixo 1 (colunas): tensor([  6., 120.])\n"
          ]
        }
      ],
      "source": [
        "# Produto de todos os elementos do tensor\n",
        "prod_all = torch.prod(tensor)\n",
        "print(\"Produto de todos os elementos:\", prod_all)\n",
        "print()\n",
        "\n",
        "# Produto ao longo do eixo 0 (linhas)\n",
        "prod_dim0 = torch.prod(tensor, dim=0)\n",
        "print(\"Produto ao longo do eixo 0 (linhas):\", prod_dim0)\n",
        "print()\n",
        "\n",
        "# Produto ao longo do eixo 1 (colunas)\n",
        "prod_dim1 = torch.prod(tensor, dim=1)\n",
        "print(\"Produto ao longo do eixo 1 (colunas):\", prod_dim1)"
      ]
    },
    {
      "cell_type": "markdown",
      "metadata": {
        "id": "3Svu6SVA10jT"
      },
      "source": [
        "## Propriedade requires_grad\n",
        "A propriedade `requires_grad` em PyTorch é fundamental para a construção e treinamento de redes neurais, pois permite calcular automaticamente os gradientes das operações. Quando `requires_grad` é definido como `True` em um tensor, todas as operações feitas nesse tensor serão rastreadas para a diferenciação automática.\n",
        "\n",
        "### Autograd e Grafos Computacionais\n",
        "\n",
        "Autograd é um componente essencial em frameworks de deep learning como PyTorch, que permite a diferenciação automática de tensores. Este mecanismo é fundamental para a otimização dos modelos de aprendizado de máquina, pois permite calcular gradientes de forma eficiente, necessária para o ajuste dos parâmetros do modelo durante o treinamento.\n",
        "\n",
        "#### Grafos Computacionais\n",
        "\n",
        "Para entender o funcionamento do autograd, é importante compreender os grafos computacionais. Um grafo computacional é uma representação gráfica de uma sequência de operações matemáticas, onde:\n",
        "\n",
        "- **Nós (nodes)** representam operações matemáticas ou variáveis.\n",
        "- **Arestas (edges)** representam os fluxos de dados (tensores) entre as operações.\n",
        "\n",
        "![alt text](https://miro.medium.com/max/908/1*ahiviCqq6B0R_XWBmgvHkA.png \"Grafo Computacional\")\n",
        "\n",
        "Durante a construção de um modelo, as operações realizadas nos tensores criam um grafo computacional dinâmico, também conhecido como *Dynamic Computation Graph*. Esse grafo é dinâmico porque é construído à medida que as operações são executadas, permitindo flexibilidade e facilidade na criação e modificação de modelos.\n",
        "\n",
        "#### Propagação para Frente (Forward Pass)\n",
        "\n",
        "Durante a propagação para frente (forward pass), os tensores são passados através das operações definidas no grafo computacional, produzindo uma saída. Este processo é usado para calcular a perda (loss) do modelo.\n",
        "\n",
        "#### Propagação para Trás (Backward Pass)\n",
        "\n",
        "A propagação para trás (backward pass) é o processo de calcular os gradientes dos tensores em relação à perda, utilizando a regra da cadeia. O autograd facilita essa tarefa, realizando automaticamente a diferenciação reversa ao longo do grafo computacional. Os passos são:\n",
        "\n",
        "1. **Calcula a perda**: A partir das saídas do forward pass.\n",
        "2. **Calcula os gradientes**: Utilizando a diferenciação automática.\n",
        "3. **Atualiza os parâmetros**: Os gradientes calculados são usados para ajustar os parâmetros do modelo através de otimização, como o gradiente descendente."
      ]
    },
    {
      "cell_type": "markdown",
      "metadata": {
        "id": "z88RhKly10jT"
      },
      "source": [
        "### Criando Tensores com `requires_grad`\n",
        "\n",
        "Vamos criar tensores com a propriedade `requires_grad` definida como `True`:"
      ]
    },
    {
      "cell_type": "code",
      "execution_count": 41,
      "metadata": {
        "id": "Ovv2_WSi10jT",
        "colab": {
          "base_uri": "https://localhost:8080/"
        },
        "outputId": "240cbcdb-fb81-4f54-8794-8c212b92fcd9"
      },
      "outputs": [
        {
          "output_type": "stream",
          "name": "stdout",
          "text": [
            "tensor([1., 2., 3.], requires_grad=True)\n"
          ]
        }
      ],
      "source": [
        "# Tensor com requires_grad\n",
        "x = torch.tensor([1.0, 2.0, 3.0], requires_grad=True)\n",
        "print(x)"
      ]
    },
    {
      "cell_type": "markdown",
      "metadata": {
        "id": "rNa-w8LP10jT"
      },
      "source": [
        "### Realizando Operações com Tensores que Têm `requires_grad`\n",
        "\n",
        "Quando realizamos operações com tensores que têm `requires_grad=True`, o PyTorch cria uma tape (fita) para rastrear todas as operações. Vamos ver um exemplo:"
      ]
    },
    {
      "cell_type": "code",
      "execution_count": 42,
      "metadata": {
        "id": "60a00TIE10jT",
        "colab": {
          "base_uri": "https://localhost:8080/"
        },
        "outputId": "f1074c06-6784-4393-bf85-6b8b99aef68c"
      },
      "outputs": [
        {
          "output_type": "stream",
          "name": "stdout",
          "text": [
            "tensor([1., 4., 9.], grad_fn=<PowBackward0>)\n",
            "tensor(14., grad_fn=<SumBackward0>)\n"
          ]
        }
      ],
      "source": [
        "# Realiza uma operação com o tensor x\n",
        "y = x ** 2\n",
        "\n",
        "print (y)\n",
        "\n",
        "# Mais uma operação\n",
        "z = y.sum()\n",
        "\n",
        "print(z)"
      ]
    },
    {
      "cell_type": "markdown",
      "metadata": {
        "id": "RFVDsSJQ10jT"
      },
      "source": [
        "### Calculando Gradientes\n",
        "\n",
        "Para calcular os gradientes, usamos o método `backward()`. Isso calcula o gradiente da função de perda em relação a todos os tensores que têm `requires_grad=True`.\n",
        "\n",
        "Os gradientes armazenados em `x.grad` representam a derivada da soma `z` em relação a `x`. Como `z` é a soma dos elementos de `y` e `y = x ** 2`, a derivada de `z` em relação a `x` é `2 * x`."
      ]
    },
    {
      "cell_type": "code",
      "execution_count": 43,
      "metadata": {
        "id": "irG2oIug10jT",
        "colab": {
          "base_uri": "https://localhost:8080/"
        },
        "outputId": "0edc8c75-eac6-47e3-dbc3-08ca6aa24868"
      },
      "outputs": [
        {
          "output_type": "stream",
          "name": "stdout",
          "text": [
            "tensor([2., 4., 6.])\n"
          ]
        }
      ],
      "source": [
        "# Calcula os gradientes\n",
        "z.backward()\n",
        "\n",
        "# z = x1² + x2² + x3²\n",
        "# dz/x1 = 2x1\n",
        "\n",
        "# Imprime os gradientes armazenados em x.grad\n",
        "print(x.grad)"
      ]
    },
    {
      "cell_type": "markdown",
      "metadata": {
        "id": "cKvvI-Ez10jT"
      },
      "source": [
        "### Desativando o Rastreamento de Gradientes\n",
        "\n",
        "Em algumas situações, não queremos rastrear as operações, como durante a inferência do modelo. Podemos desativar temporariamente o rastreamento de gradientes usando `torch.no_grad()` ou `detach()`. Vamos ver como:"
      ]
    },
    {
      "cell_type": "code",
      "execution_count": 44,
      "metadata": {
        "id": "ENsaqpnw10jU",
        "colab": {
          "base_uri": "https://localhost:8080/"
        },
        "outputId": "7f8f3b66-300e-47eb-8c77-9adabc16c3bd"
      },
      "outputs": [
        {
          "output_type": "stream",
          "name": "stdout",
          "text": [
            "False\n",
            "False\n"
          ]
        }
      ],
      "source": [
        "# Desativando o rastreamento de gradientes temporariamente\n",
        "with torch.no_grad():\n",
        "    y = x * 2\n",
        "    print(y.requires_grad)  # False, pois o rastreamento está desativado\n",
        "\n",
        "# Criando um novo tensor sem rastreamento de gradientes\n",
        "x_detached = x.detach()\n",
        "print(x_detached.requires_grad)  # False, pois o tensor foi separado da tape de computação"
      ]
    },
    {
      "cell_type": "markdown",
      "metadata": {
        "id": "s-GEwKD710jU"
      },
      "source": [
        "### Verificando se um Tensor Requer Gradiente\n",
        "\n",
        "Podemos verificar se um tensor requer gradiente usando a propriedade `requires_grad`:"
      ]
    },
    {
      "cell_type": "code",
      "execution_count": 45,
      "metadata": {
        "id": "AHoaTi6s10jU",
        "colab": {
          "base_uri": "https://localhost:8080/"
        },
        "outputId": "956d4f24-bbba-4c7c-f791-30c75c8a9feb"
      },
      "outputs": [
        {
          "output_type": "stream",
          "name": "stdout",
          "text": [
            "True\n",
            "False\n"
          ]
        }
      ],
      "source": [
        "print(x.requires_grad)  # True, pois x foi criado com requires_grad=True\n",
        "print(x_detached.requires_grad)  # False, pois x_detached foi separado da tape de computação"
      ]
    },
    {
      "cell_type": "markdown",
      "metadata": {
        "id": "zuu-c0Zi10jU"
      },
      "source": [
        "## Exercícios - PyTorch Básico"
      ]
    },
    {
      "cell_type": "markdown",
      "metadata": {
        "id": "jPDi3RBm10jU"
      },
      "source": [
        "### Exercício 1: Criação de Tensores\n",
        "\n",
        "1. Crie um tensor 1D com os valores de 1 a 10.\n",
        "2. Crie um tensor 2D de forma (3, 3) com valores aleatórios.\n",
        "3. Crie um tensor 3D de forma (2, 3, 4) com todos os valores iguais a 1.\n",
        "4. Crie um tensor de zeros com as mesmas dimensões do tensor 2D criado no exercício 2.\n",
        "5. Crie um tensor de uns com as mesmas dimensões do tensor 3D criado no exercício 3."
      ]
    },
    {
      "cell_type": "code",
      "execution_count": 46,
      "metadata": {
        "id": "2GpVthWd10jU",
        "colab": {
          "base_uri": "https://localhost:8080/"
        },
        "outputId": "10acf3f1-a1fe-47cb-f4cf-0c0372629893"
      },
      "outputs": [
        {
          "output_type": "execute_result",
          "data": {
            "text/plain": [
              "tensor([ 1,  2,  3,  4,  5,  6,  7,  8,  9, 10])"
            ]
          },
          "metadata": {},
          "execution_count": 46
        }
      ],
      "source": [
        "# 1. Crie um tensor 1D com os valores de 1 a 10.\n",
        "\n",
        "tensor_1d = torch.arange(1, 11)\n",
        "tensor_1d"
      ]
    },
    {
      "cell_type": "code",
      "source": [
        "# 2. Crie um tensor 2D de forma (3, 3) com valores aleatórios.\n",
        "\n",
        "tensor_2d = torch.rand(3, 3)\n",
        "tensor_2d\n"
      ],
      "metadata": {
        "colab": {
          "base_uri": "https://localhost:8080/"
        },
        "id": "wt5v-bfYcwHS",
        "outputId": "308e4a6f-eb75-47ac-ed1a-9c2450a792ee"
      },
      "execution_count": 47,
      "outputs": [
        {
          "output_type": "execute_result",
          "data": {
            "text/plain": [
              "tensor([[0.8117, 0.7644, 0.2845],\n",
              "        [0.3728, 0.3043, 0.6540],\n",
              "        [0.2032, 0.6132, 0.1659]])"
            ]
          },
          "metadata": {},
          "execution_count": 47
        }
      ]
    },
    {
      "cell_type": "code",
      "source": [
        "# 3. Crie um tensor 3D de forma (2, 3, 4) com todos os valores iguais a 1.\n",
        "\n",
        "tensor_3d = torch.ones(2, 3, 4)\n",
        "tensor_3d"
      ],
      "metadata": {
        "colab": {
          "base_uri": "https://localhost:8080/"
        },
        "id": "rLyaPQtOc5jI",
        "outputId": "ed90816a-d812-435f-a6a0-33e6bb3f19a0"
      },
      "execution_count": 48,
      "outputs": [
        {
          "output_type": "execute_result",
          "data": {
            "text/plain": [
              "tensor([[[1., 1., 1., 1.],\n",
              "         [1., 1., 1., 1.],\n",
              "         [1., 1., 1., 1.]],\n",
              "\n",
              "        [[1., 1., 1., 1.],\n",
              "         [1., 1., 1., 1.],\n",
              "         [1., 1., 1., 1.]]])"
            ]
          },
          "metadata": {},
          "execution_count": 48
        }
      ]
    },
    {
      "cell_type": "code",
      "source": [
        "# 4. Crie um tensor de zeros com as mesmas dimensões do tensor 2D criado no exercício 2.\n",
        "\n",
        "tensor_zeros_2d = torch.zeros_like(tensor_2d)\n",
        "tensor_zeros_2d"
      ],
      "metadata": {
        "colab": {
          "base_uri": "https://localhost:8080/"
        },
        "id": "yEmdTQC6dAH5",
        "outputId": "349bcabc-103e-4b3e-e9c0-9890086c90d1"
      },
      "execution_count": 49,
      "outputs": [
        {
          "output_type": "execute_result",
          "data": {
            "text/plain": [
              "tensor([[0., 0., 0.],\n",
              "        [0., 0., 0.],\n",
              "        [0., 0., 0.]])"
            ]
          },
          "metadata": {},
          "execution_count": 49
        }
      ]
    },
    {
      "cell_type": "code",
      "source": [
        "# 5. Crie um tensor de uns com as mesmas dimensões do tensor 3D criado no exercício 3.\n",
        "\n",
        "tensor_ones_3d = torch.ones_like(tensor_3d)\n",
        "tensor_ones_3d"
      ],
      "metadata": {
        "colab": {
          "base_uri": "https://localhost:8080/"
        },
        "id": "kPJH3wzvddJD",
        "outputId": "b3f5f7cf-1563-44d4-d5a8-068bf4ab1f11"
      },
      "execution_count": 50,
      "outputs": [
        {
          "output_type": "execute_result",
          "data": {
            "text/plain": [
              "tensor([[[1., 1., 1., 1.],\n",
              "         [1., 1., 1., 1.],\n",
              "         [1., 1., 1., 1.]],\n",
              "\n",
              "        [[1., 1., 1., 1.],\n",
              "         [1., 1., 1., 1.],\n",
              "         [1., 1., 1., 1.]]])"
            ]
          },
          "metadata": {},
          "execution_count": 50
        }
      ]
    },
    {
      "cell_type": "markdown",
      "metadata": {
        "id": "z6waPEpi10jU"
      },
      "source": [
        "### Exercício 2: Manipulação de Tensores\n",
        "\n",
        "1. Dado o tensor `a = torch.tensor([[1, 2], [3, 4], [5, 6]])`, obtenha a primeira coluna.\n",
        "2. Dado o tensor `b = torch.tensor([[[1, 2, 3], [4, 5, 6]], [[7, 8, 9], [10, 11, 12]]])`, obtenha o subtensor `[[7, 8, 9], [10, 11, 12]]`.\n",
        "3. Dado o tensor `c = torch.tensor([1, 2, 3, 4, 5, 6])`, mude sua forma para (2, 3).\n",
        "4. Dado o tensor `d = torch.tensor([1, 2, 3, 4, 5, 6])`, adicione uma dimensão extra para que ele se torne de forma (1, 6)."
      ]
    },
    {
      "cell_type": "code",
      "execution_count": 51,
      "metadata": {
        "id": "Q5oZwI0Y10jU",
        "colab": {
          "base_uri": "https://localhost:8080/"
        },
        "outputId": "2e0d9eb3-6d65-4d1f-c42a-1db5f2269bb4"
      },
      "outputs": [
        {
          "output_type": "stream",
          "name": "stdout",
          "text": [
            "tensor([[1, 2],\n",
            "        [3, 4],\n",
            "        [5, 6]])\n",
            "tensor([1, 3, 5])\n"
          ]
        }
      ],
      "source": [
        "# 1. Dado o tensor a = torch.tensor([[1, 2], [3, 4], [5, 6]]), obtenha a primeira coluna.\n",
        "\n",
        "a = torch.tensor([[1, 2], [3, 4], [5, 6]])\n",
        "print(a)\n",
        "print(a[:, 0])"
      ]
    },
    {
      "cell_type": "code",
      "source": [
        "# 2. Dado o tensor b = torch.tensor([[[1, 2, 3], [4, 5, 6]], [[7, 8, 9], [10, 11, 12]]]), obtenha o subtensor [[7, 8, 9], [10, 11, 12]].\n",
        "\n",
        "b = torch.tensor([[[1, 2, 3], [4, 5, 6]], [[7, 8, 9], [10, 11, 12]]])\n",
        "b[1]"
      ],
      "metadata": {
        "colab": {
          "base_uri": "https://localhost:8080/"
        },
        "id": "KicvS9ouePXA",
        "outputId": "41cd8ea8-4a64-4bfa-b5bb-225666035112"
      },
      "execution_count": 52,
      "outputs": [
        {
          "output_type": "execute_result",
          "data": {
            "text/plain": [
              "tensor([[ 7,  8,  9],\n",
              "        [10, 11, 12]])"
            ]
          },
          "metadata": {},
          "execution_count": 52
        }
      ]
    },
    {
      "cell_type": "code",
      "source": [
        "dimensoes = tuple(b.shape)\n",
        "\n",
        "for x in range(dimensoes[0]):\n",
        "    for y in range(dimensoes[1]):\n",
        "        for z in range(dimensoes[2]):\n",
        "            print(f'b[{x}, {y}, {z}]={b[x, y, z]}')"
      ],
      "metadata": {
        "colab": {
          "base_uri": "https://localhost:8080/"
        },
        "id": "qNvkrj7RitSM",
        "outputId": "968e3223-97cc-4d5c-8cfa-694d1bf012ae"
      },
      "execution_count": 53,
      "outputs": [
        {
          "output_type": "stream",
          "name": "stdout",
          "text": [
            "b[0, 0, 0]=1\n",
            "b[0, 0, 1]=2\n",
            "b[0, 0, 2]=3\n",
            "b[0, 1, 0]=4\n",
            "b[0, 1, 1]=5\n",
            "b[0, 1, 2]=6\n",
            "b[1, 0, 0]=7\n",
            "b[1, 0, 1]=8\n",
            "b[1, 0, 2]=9\n",
            "b[1, 1, 0]=10\n",
            "b[1, 1, 1]=11\n",
            "b[1, 1, 2]=12\n"
          ]
        }
      ]
    },
    {
      "cell_type": "code",
      "source": [
        "# 3. Dado o tensor c = torch.tensor([1, 2, 3, 4, 5, 6]), mude sua forma para (2, 3).\n",
        "\n",
        "c = torch.tensor([1, 2, 3, 4, 5, 6])\n",
        "c = c.reshape(2, 3)\n",
        "\n",
        "print (c)"
      ],
      "metadata": {
        "colab": {
          "base_uri": "https://localhost:8080/"
        },
        "id": "FYXKtVk7lDKF",
        "outputId": "cbadf49c-5bcd-44db-c3c0-39a732ece4e3"
      },
      "execution_count": 54,
      "outputs": [
        {
          "output_type": "stream",
          "name": "stdout",
          "text": [
            "tensor([[1, 2, 3],\n",
            "        [4, 5, 6]])\n"
          ]
        }
      ]
    },
    {
      "cell_type": "markdown",
      "metadata": {
        "id": "-WAd8LH310jU"
      },
      "source": [
        "### Exercício 3: Funções de Criação de Tensores\n",
        "\n",
        "1. Crie um tensor contendo valores de 0 a 1, espaçados igualmente em 5 passos.\n",
        "2. Crie um tensor contendo valores de 0 a 10, com um passo de 2.\n",
        "3. Crie um tensor de forma (3, 3) com valores aleatórios entre 0 e 10.\n",
        "4. Crie um tensor correspondente a uma imagem em escala de cinza de dimensões 128x128 com valores aleatórios entre 0 e 255.\n",
        "5. Crie um tensor correspondente a uma imagem em RGB de dimensões 128x128 com valores aleatórios entre 0 e 255."
      ]
    },
    {
      "cell_type": "code",
      "execution_count": 55,
      "metadata": {
        "id": "YjSNAEl810jU",
        "colab": {
          "base_uri": "https://localhost:8080/"
        },
        "collapsed": true,
        "outputId": "59689a95-3191-41ca-db85-4178e2d47c42"
      },
      "outputs": [
        {
          "output_type": "execute_result",
          "data": {
            "text/plain": [
              "tensor([0.0000, 0.2500, 0.5000, 0.7500, 1.0000])"
            ]
          },
          "metadata": {},
          "execution_count": 55
        }
      ],
      "source": [
        "# 1. Crie um tensor contendo valores de 0 a 1, espaçados igualmente em 5 passos.\n",
        "tensor_ex_3_1 = torch.linspace(0, 1, steps=5)\n",
        "tensor_ex_3_1"
      ]
    },
    {
      "cell_type": "code",
      "source": [
        "# 2. Crie um tensor contendo valores de 0 a 10, com um passo de 2.\n",
        "tensor_ex_3_2 = torch.arange(0, 10, step=2)\n",
        "tensor_ex_3_2"
      ],
      "metadata": {
        "colab": {
          "base_uri": "https://localhost:8080/"
        },
        "collapsed": true,
        "id": "XqRWaIZ9p3Rn",
        "outputId": "fd4beaa9-1772-427e-c339-0d7448be5ebb"
      },
      "execution_count": 56,
      "outputs": [
        {
          "output_type": "execute_result",
          "data": {
            "text/plain": [
              "tensor([0, 2, 4, 6, 8])"
            ]
          },
          "metadata": {},
          "execution_count": 56
        }
      ]
    },
    {
      "cell_type": "code",
      "source": [
        "# 3. Crie um tensor de forma (3, 3) com valores aleatórios entre 0 e 10\n",
        "tensor_ex_3_3_int = torch.randint(0, 10, size=(3, 3))\n",
        "print (tensor_ex_3_3_int)\n",
        "\n",
        "tensor_ex_3_3_float = torch.rand(3, 3) * 10\n",
        "print (tensor_ex_3_3_float)"
      ],
      "metadata": {
        "colab": {
          "base_uri": "https://localhost:8080/"
        },
        "collapsed": true,
        "id": "37g9uZoRqFPX",
        "outputId": "849d7561-5531-4fac-b304-577e182a974c"
      },
      "execution_count": 57,
      "outputs": [
        {
          "output_type": "stream",
          "name": "stdout",
          "text": [
            "tensor([[2, 8, 7],\n",
            "        [0, 8, 5],\n",
            "        [5, 0, 1]])\n",
            "tensor([[9.3251, 5.0103, 2.6217],\n",
            "        [3.1792, 7.7516, 6.4297],\n",
            "        [3.6380, 1.6042, 9.8606]])\n"
          ]
        }
      ]
    },
    {
      "cell_type": "code",
      "source": [
        "# 4. Crie um tensor correspondente a uma imagem em escala de cinza de dimensões 128x128 com valores aleatórios entre 0 e 255\n",
        "tensor_ex_3_4 = torch.randint(0, 256, size=(128, 128))\n",
        "tensor_ex_3_4"
      ],
      "metadata": {
        "colab": {
          "base_uri": "https://localhost:8080/"
        },
        "collapsed": true,
        "id": "zyyv__cgr4_P",
        "outputId": "d4e31c88-2ecb-439e-c316-87aa1f1c56df"
      },
      "execution_count": 58,
      "outputs": [
        {
          "output_type": "execute_result",
          "data": {
            "text/plain": [
              "tensor([[196,  16,  68,  ...,  62,  84,  44],\n",
              "        [237,   6,  12,  ..., 100,   4, 185],\n",
              "        [255,  27, 246,  ..., 164, 164, 149],\n",
              "        ...,\n",
              "        [184,  37,  63,  ..., 192, 139,  94],\n",
              "        [222, 114, 132,  ..., 204,   7,   2],\n",
              "        [235, 125, 185,  ..., 189,   2,  70]])"
            ]
          },
          "metadata": {},
          "execution_count": 58
        }
      ]
    },
    {
      "cell_type": "code",
      "source": [
        "# 5. Crie um tensor correspondente a uma imagem em RGB de dimensões 128x128 com valores aleatórios entre 0 e 255.\n",
        "tensor_ex_3_5 = torch.randint(0, 256, size=(128, 128, 3))\n",
        "tensor_ex_3_5"
      ],
      "metadata": {
        "colab": {
          "base_uri": "https://localhost:8080/"
        },
        "collapsed": true,
        "id": "-Z7pNu4tsIqg",
        "outputId": "d5fb0cef-3fca-4b09-fd32-b28117e4f6ed"
      },
      "execution_count": 59,
      "outputs": [
        {
          "output_type": "execute_result",
          "data": {
            "text/plain": [
              "tensor([[[200,  20, 148],\n",
              "         [ 12,  65, 252],\n",
              "         [177,  75, 210],\n",
              "         ...,\n",
              "         [247,  29, 217],\n",
              "         [101, 169,  74],\n",
              "         [126,  89, 127]],\n",
              "\n",
              "        [[237,  84, 226],\n",
              "         [189, 255,  95],\n",
              "         [237, 210, 188],\n",
              "         ...,\n",
              "         [ 92,  94, 117],\n",
              "         [ 52, 132,  29],\n",
              "         [  4,  63, 240]],\n",
              "\n",
              "        [[212,  31, 115],\n",
              "         [101, 186, 110],\n",
              "         [ 16, 170, 183],\n",
              "         ...,\n",
              "         [228,  87, 219],\n",
              "         [ 85,   4,  11],\n",
              "         [ 25,  35, 171]],\n",
              "\n",
              "        ...,\n",
              "\n",
              "        [[ 61,  57, 161],\n",
              "         [220, 101, 162],\n",
              "         [ 58, 180, 166],\n",
              "         ...,\n",
              "         [ 46, 140,  99],\n",
              "         [180,  84,  49],\n",
              "         [175,  34, 103]],\n",
              "\n",
              "        [[209,  62,  33],\n",
              "         [ 13, 241,  60],\n",
              "         [183,  77, 202],\n",
              "         ...,\n",
              "         [109, 210,  81],\n",
              "         [ 82,  91,  94],\n",
              "         [240,  68,  56]],\n",
              "\n",
              "        [[124, 247, 229],\n",
              "         [141,  64,  12],\n",
              "         [103, 116,  81],\n",
              "         ...,\n",
              "         [250, 113, 231],\n",
              "         [196, 146, 169],\n",
              "         [  2, 247, 141]]])"
            ]
          },
          "metadata": {},
          "execution_count": 59
        }
      ]
    },
    {
      "cell_type": "markdown",
      "metadata": {
        "id": "drUEHLiz10jV"
      },
      "source": [
        "### Exercício 4: Operações Avançadas com Tensores\n",
        "\n",
        "1. Dado o tensor `a = torch.tensor([1, 2, 3])` e `b = torch.tensor([[4], [5], [6]])`, calcule a soma de `a` e `b` usando broadcasting.\n",
        "2. Dado o tensor `a = torch.tensor([1.0, 2.0, 3.0, 4.0])`, calcule a soma de todos os elementos.\n",
        "3. Dado o tensor `a = torch.tensor([1.0, 2.0, 3.0, 4.0])`, calcule a média de todos os elementos.\n",
        "4. Dado o tensor `a = torch.tensor([1.0, 2.0, 3.0, 4.0])`, calcule a raiz quadrada de todos os elementos."
      ]
    },
    {
      "cell_type": "code",
      "execution_count": 60,
      "metadata": {
        "id": "KQjNUpor10jV",
        "colab": {
          "base_uri": "https://localhost:8080/"
        },
        "outputId": "2054e40b-15b7-444c-8098-009b78cfb2e3"
      },
      "outputs": [
        {
          "output_type": "execute_result",
          "data": {
            "text/plain": [
              "tensor([[5, 6, 7],\n",
              "        [6, 7, 8],\n",
              "        [7, 8, 9]])"
            ]
          },
          "metadata": {},
          "execution_count": 60
        }
      ],
      "source": [
        "# 1. Dado o tensor a = torch.tensor([1, 2, 3]) e b = torch.tensor([[4], [5], [6]]), calcule a soma de a e b usando broadcasting.\n",
        "\n",
        "a = torch.tensor([1, 2, 3])\n",
        "b = torch.tensor([[4], [5], [6]])\n",
        "\n",
        "result = a + b\n",
        "result"
      ]
    },
    {
      "cell_type": "markdown",
      "source": [
        "Criei um único tensor para as questões 2, 3 e 4"
      ],
      "metadata": {
        "id": "UhYq2NuFncNA"
      }
    },
    {
      "cell_type": "code",
      "source": [
        "tensor_234 = torch.tensor([1.0, 2.0, 3.0, 4.0])"
      ],
      "metadata": {
        "id": "w8pt8cv6nO03"
      },
      "execution_count": 61,
      "outputs": []
    },
    {
      "cell_type": "code",
      "source": [
        "# 2. Dado o tensor a = torch.tensor([1.0, 2.0, 3.0, 4.0]), calcule a soma de todos os elementos.\n",
        "\n",
        "tensor_234 = torch.tensor([1.0, 2.0, 3.0, 4.0])\n",
        "\n",
        "soma = torch.sum(tensor_234)\n",
        "print(soma)"
      ],
      "metadata": {
        "colab": {
          "base_uri": "https://localhost:8080/"
        },
        "id": "NouCO2tamQhQ",
        "outputId": "cdd986c1-47ef-4b36-daeb-a65037970e63"
      },
      "execution_count": 62,
      "outputs": [
        {
          "output_type": "stream",
          "name": "stdout",
          "text": [
            "tensor(10.)\n"
          ]
        }
      ]
    },
    {
      "cell_type": "code",
      "source": [
        "# 3. Dado o tensor a = torch.tensor([1.0, 2.0, 3.0, 4.0]), calcule a média de todos os elementos.\n",
        "\n",
        "media = torch.mean(tensor_234)\n",
        "print(media)"
      ],
      "metadata": {
        "colab": {
          "base_uri": "https://localhost:8080/"
        },
        "id": "0IdcFS9YmxTS",
        "outputId": "82023dee-1c45-443d-a8e2-120d11f809b9"
      },
      "execution_count": 63,
      "outputs": [
        {
          "output_type": "stream",
          "name": "stdout",
          "text": [
            "tensor(2.5000)\n"
          ]
        }
      ]
    },
    {
      "cell_type": "code",
      "source": [
        "# 4. Dado o tensor a = torch.tensor([1.0, 2.0, 3.0, 4.0]), calcule a raiz quadrada de todos os elementos.\n",
        "\n",
        "raiz = torch.sqrt(tensor_234)\n",
        "print(raiz)"
      ],
      "metadata": {
        "colab": {
          "base_uri": "https://localhost:8080/"
        },
        "id": "K1O2SXHsnZ5X",
        "outputId": "c3254d32-c908-4b17-e30b-8641a4945290"
      },
      "execution_count": 64,
      "outputs": [
        {
          "output_type": "stream",
          "name": "stdout",
          "text": [
            "tensor([1.0000, 1.4142, 1.7321, 2.0000])\n"
          ]
        }
      ]
    },
    {
      "cell_type": "markdown",
      "metadata": {
        "id": "EEGYEdnP10jV"
      },
      "source": [
        "### Exercício 5: Autograd e Backpropagation\n",
        "\n",
        "1. Crie um tensor `x` com os valores `[2.0, 3.0]` e `requires_grad=True`. Calcule `y = x^2` e os gradientes.\n",
        "2. Crie um tensor `x` com o valor `3.0` e `requires_grad=True`. Calcule `y = 2*x + 1` e o gradiente.\n",
        "3. Crie um tensor `x` com os valores `[1.0, 2.0, 3.0]` e `requires_grad=True`. Calcule `y = x^3` e os gradientes."
      ]
    },
    {
      "cell_type": "code",
      "execution_count": 65,
      "metadata": {
        "id": "xZSWjKe210jV",
        "colab": {
          "base_uri": "https://localhost:8080/"
        },
        "outputId": "9dd1caf6-0e4c-4616-92b3-ed4d0ebb783e"
      },
      "outputs": [
        {
          "output_type": "execute_result",
          "data": {
            "text/plain": [
              "tensor([4., 6.])"
            ]
          },
          "metadata": {},
          "execution_count": 65
        }
      ],
      "source": [
        "# 1. Crie um tensor x com os valores [2.0, 3.0] e requires_grad=True. Calcule y = x^2 e os gradientes.\n",
        "\n",
        "x = torch.tensor([2.0, 3.0], requires_grad=True)\n",
        "y = x ** 2\n",
        "y.sum().backward()  # Calcula os gradientes\n",
        "x.grad\n"
      ]
    },
    {
      "cell_type": "code",
      "execution_count": 66,
      "metadata": {
        "colab": {
          "base_uri": "https://localhost:8080/"
        },
        "outputId": "bb738aef-a022-416e-ffa3-814903fb3630",
        "id": "brXYOVTRpKGS"
      },
      "outputs": [
        {
          "output_type": "execute_result",
          "data": {
            "text/plain": [
              "tensor(2.)"
            ]
          },
          "metadata": {},
          "execution_count": 66
        }
      ],
      "source": [
        "# 2. Crie um tensor x com o valor 3.0 e requires_grad=True. Calcule y = 2*x + 1 e o gradiente.\n",
        "\n",
        "x = torch.tensor(3.0, requires_grad=True)\n",
        "y = 2*x + 1\n",
        "y.backward()  # Calcula os gradientes\n",
        "x.grad\n"
      ]
    },
    {
      "cell_type": "code",
      "source": [
        "# 3. Crie um tensor x com os valores [1.0, 2.0, 3.0] e requires_grad=True. Calcule y = x^3 e os gradientes.\n",
        "x = torch.tensor([1.0, 2.0, 3.0], requires_grad=True)\n",
        "y = x ** 3\n",
        "\n",
        "print (y)\n",
        "\n",
        "y.sum().backward()\n",
        "\n",
        "print (x.grad)"
      ],
      "metadata": {
        "colab": {
          "base_uri": "https://localhost:8080/"
        },
        "id": "av6oVoxRpqe0",
        "outputId": "a20ad4d4-5bf4-41ac-8321-d80f194c1773"
      },
      "execution_count": 67,
      "outputs": [
        {
          "output_type": "stream",
          "name": "stdout",
          "text": [
            "tensor([ 1.,  8., 27.], grad_fn=<PowBackward0>)\n",
            "tensor([ 3., 12., 27.])\n"
          ]
        }
      ]
    },
    {
      "cell_type": "markdown",
      "metadata": {
        "id": "SADR3ghG10jV"
      },
      "source": [
        "### Exercício 6: Operações de Redução\n",
        "\n",
        "1. Crie um tensor de forma (4, 5) contendo valores de 1 a 20 usando `torch.arange`. Em seguida, calcule a soma de todos os elementos do tensor.\n",
        "\n",
        "2. Crie um tensor de forma (3, 4) com valores aleatórios entre 0 e 1 usando `torch.rand`. Calcule a média dos elementos ao longo do eixo 1 (colunas).\n",
        "\n",
        "3. Crie um tensor de forma (5, 5) contendo valores espaçados igualmente de 0 a 24 usando `torch.linspace`. Encontre o valor mínimo e o máximo de todos os elementos do tensor.\n",
        "\n",
        "4. Crie um tensor de forma (3, 6) com valores inteiros aleatórios entre 10 e 50 usando `torch.randint`. Calcule o produto dos elementos ao longo do eixo 0 (linhas).\n",
        "\n",
        "5. Crie um tensor de forma (2, 3, 4) com valores aleatórios entre 0 e 1 usando `torch.rand`. Encontre a soma dos elementos ao longo do eixo 2."
      ]
    },
    {
      "cell_type": "code",
      "execution_count": 73,
      "metadata": {
        "id": "vbHtG3dz10jV",
        "colab": {
          "base_uri": "https://localhost:8080/"
        },
        "outputId": "1ffdae77-f089-498b-ee0a-e791e7567e34"
      },
      "outputs": [
        {
          "output_type": "stream",
          "name": "stdout",
          "text": [
            "Tensor:\n",
            "tensor([[ 1,  2,  3,  4,  5],\n",
            "        [ 6,  7,  8,  9, 10],\n",
            "        [11, 12, 13, 14, 15],\n",
            "        [16, 17, 18, 19, 20]])\n",
            "Soma de todos os elementos: 210\n"
          ]
        }
      ],
      "source": [
        "# 1. Crie um tensor de forma (4, 5) contendo valores de 1 a 20 usando torch.arange. Em seguida, calcule a soma de todos os elementos do tensor.\n",
        "\n",
        "tensor = torch.arange(1, 21).reshape(4, 5)\n",
        "soma = torch.sum(tensor)\n",
        "print(f\"Tensor:\\n{tensor}\")\n",
        "print(f\"Soma de todos os elementos: {soma}\")\n"
      ]
    },
    {
      "cell_type": "code",
      "source": [
        "'''\n",
        "2. Crie um tensor de forma (3, 4) com valores aleatórios entre 0 e 1 usando torch.rand.\n",
        "Calcule a média dos elementos ao longo do eixo 1 (colunas).\n",
        "'''\n",
        "\n",
        "tensor = torch.rand(3, 4)\n",
        "media_coluna = torch.mean(tensor, dim=1)\n",
        "print(f\"Tensor:\\n{tensor}\")\n",
        "print(f\"Média ao longo do eixo 1 (colunas): {media_coluna}\")"
      ],
      "metadata": {
        "colab": {
          "base_uri": "https://localhost:8080/"
        },
        "id": "F1hn8jxrg8yP",
        "outputId": "ac85f99a-a3b2-4f67-c8f1-1e52a347d71e"
      },
      "execution_count": 77,
      "outputs": [
        {
          "output_type": "stream",
          "name": "stdout",
          "text": [
            "Tensor:\n",
            "tensor([[0.0354, 0.3829, 0.2357, 0.5348],\n",
            "        [0.0639, 0.8425, 0.1614, 0.7078],\n",
            "        [0.6707, 0.5226, 0.1472, 0.6060]])\n",
            "Média ao longo do eixo 1 (colunas): tensor([0.2972, 0.4439, 0.4866])\n"
          ]
        }
      ]
    },
    {
      "cell_type": "code",
      "source": [
        "'''\n",
        "3. Crie um tensor de forma (5, 5) contendo valores espaçados igualmente de 0 a 24 usando torch.linspace.\n",
        "Encontre o valor mínimo e o máximo de todos os elementos do tensor.\n",
        "'''\n",
        "\n",
        "tensor = torch.linspace(0, 24, steps=25).reshape(5, 5)\n",
        "\n",
        "max_nr = torch.max(tensor)\n",
        "min_nr = torch.min(tensor)\n",
        "\n",
        "print(f\"Tensor:\\n{tensor}\")\n",
        "print(f\"Máximo: {max_nr}\")\n",
        "print(f\"Mínimo: {min_nr}\")"
      ],
      "metadata": {
        "colab": {
          "base_uri": "https://localhost:8080/"
        },
        "id": "moG8lTsXiq8X",
        "outputId": "abb73703-4f9d-429f-dd61-d7661c518352"
      },
      "execution_count": 79,
      "outputs": [
        {
          "output_type": "stream",
          "name": "stdout",
          "text": [
            "Tensor:\n",
            "tensor([[ 0.,  1.,  2.,  3.,  4.],\n",
            "        [ 5.,  6.,  7.,  8.,  9.],\n",
            "        [10., 11., 12., 13., 14.],\n",
            "        [15., 16., 17., 18., 19.],\n",
            "        [20., 21., 22., 23., 24.]])\n",
            "Máximo: 24.0\n",
            "Mínimo: 0.0\n"
          ]
        }
      ]
    },
    {
      "cell_type": "code",
      "source": [
        "'''\n",
        "4. Crie um tensor de forma (3, 6) com valores inteiros aleatórios entre 10 e 50 usando torch.randint.\n",
        "Calcule o produto dos elementos ao longo do eixo 0 (linhas).\n",
        "'''\n",
        "\n",
        "tensor = torch.randint(10, 50, size=(3, 6))\n",
        "produto_linhas = torch.prod(tensor, dim=0)\n",
        "print(f\"Tensor:\\n{tensor}\")\n",
        "print(f\"Produto dos elementos ao longo do eixo 0 (linhas): {produto_linhas}\")"
      ],
      "metadata": {
        "colab": {
          "base_uri": "https://localhost:8080/"
        },
        "id": "Z1WrJJRijZ1H",
        "outputId": "a438a043-5e23-4645-f275-aefb0392b700"
      },
      "execution_count": 82,
      "outputs": [
        {
          "output_type": "stream",
          "name": "stdout",
          "text": [
            "Tensor:\n",
            "tensor([[28, 19, 46, 33, 20, 33],\n",
            "        [36, 21, 24, 30, 31, 43],\n",
            "        [11, 49, 37, 40, 28, 28]])\n",
            "Produto dos elementos ao longo do eixo 0 (linhas): tensor([11088, 19551, 40848, 39600, 17360, 39732])\n"
          ]
        }
      ]
    },
    {
      "cell_type": "code",
      "source": [
        "'''\n",
        "5. Crie um tensor de forma (2, 3, 4) com valores aleatórios entre 0 e 1 usando torch.rand.\n",
        "Encontre a soma dos elementos ao longo do eixo 2.\n",
        "'''\n",
        "\n",
        "tensor = torch.rand(2, 3, 4)\n",
        "soma_eixo_2 = torch.sum(tensor, dim=2)\n",
        "\n",
        "print(f\"Tensor:\\n{tensor}\")\n",
        "print(f\"Soma ao longo do eixo 2:\\n{soma_eixo_2}\")"
      ],
      "metadata": {
        "colab": {
          "base_uri": "https://localhost:8080/"
        },
        "id": "B03Cm-lMjcnv",
        "outputId": "c39966bb-f8d6-4754-b85d-02ff1b3e5be2"
      },
      "execution_count": 87,
      "outputs": [
        {
          "output_type": "stream",
          "name": "stdout",
          "text": [
            "Tensor:\n",
            "tensor([[[0.1785, 0.0970, 0.5456, 0.7870],\n",
            "         [0.0132, 0.1502, 0.0198, 0.5997],\n",
            "         [0.3294, 0.5328, 0.4779, 0.0187]],\n",
            "\n",
            "        [[0.0815, 0.6007, 0.0541, 0.5128],\n",
            "         [0.4111, 0.8733, 0.4353, 0.6151],\n",
            "         [0.7199, 0.1728, 0.5362, 0.9277]]])\n",
            "Soma ao longo do eixo 2:\n",
            "tensor([[1.6080, 0.7828, 1.3587],\n",
            "        [1.2490, 2.3348, 2.3566]])\n"
          ]
        }
      ]
    },
    {
      "cell_type": "code",
      "source": [
        "# soma_eixo_1 = torch.sum(tensor, dim=1)\n",
        "# print(f\"Soma ao longo do eixo 1:\\n{soma_eixo_1}\")\n",
        "\n",
        "# for x in range(tensor.shape[0]):\n",
        "#     for y in range(tensor.shape[1]):\n",
        "#         for z in range(tensor.shape[2]):\n",
        "#             print(f'tensor[{x}, {y}, {z}]={tensor[x, y, z]}')"
      ],
      "metadata": {
        "id": "frdazLXmnLz2"
      },
      "execution_count": null,
      "outputs": []
    }
  ],
  "metadata": {
    "kernelspec": {
      "display_name": "base",
      "language": "python",
      "name": "python3"
    },
    "language_info": {
      "codemirror_mode": {
        "name": "ipython",
        "version": 3
      },
      "file_extension": ".py",
      "mimetype": "text/x-python",
      "name": "python",
      "nbconvert_exporter": "python",
      "pygments_lexer": "ipython3",
      "version": "3.10.13"
    },
    "colab": {
      "provenance": []
    }
  },
  "nbformat": 4,
  "nbformat_minor": 0
}