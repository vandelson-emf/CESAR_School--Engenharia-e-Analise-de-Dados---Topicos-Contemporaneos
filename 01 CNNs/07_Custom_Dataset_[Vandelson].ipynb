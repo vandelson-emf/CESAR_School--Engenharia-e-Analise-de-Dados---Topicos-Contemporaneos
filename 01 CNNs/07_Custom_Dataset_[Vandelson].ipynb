{
  "cells": [
    {
      "cell_type": "markdown",
      "metadata": {
        "id": "exCC2U_Fx9mK"
      },
      "source": [
        "## Exercício\n",
        "Um dataset sintético contendo alguns exemplos de diferentes formas básicas é criado. Em seguida, crie um dataset e um modelo convolucional que classifique o formato na imagem."
      ]
    },
    {
      "cell_type": "code",
      "execution_count": 2,
      "metadata": {
        "id": "ZwsJ27T_x9mM"
      },
      "outputs": [],
      "source": [
        "import numpy as np\n",
        "import cv2\n",
        "import os\n",
        "import pandas as pd\n",
        "import matplotlib.pyplot as plt\n",
        "from tqdm import tqdm"
      ]
    },
    {
      "cell_type": "code",
      "execution_count": 3,
      "metadata": {
        "id": "M--ew2E7x9mN"
      },
      "outputs": [],
      "source": [
        "# Parâmetros\n",
        "image_size = 64\n",
        "num_examples = 2000\n",
        "num_classes = 5\n",
        "output_file = \"data/synthetic.csv\""
      ]
    },
    {
      "cell_type": "code",
      "execution_count": 4,
      "metadata": {
        "id": "FtSrYi2mx9mN"
      },
      "outputs": [],
      "source": [
        "# Função para gerar uma imagem de uma determinada classe\n",
        "def generate_image(label):\n",
        "    image = np.zeros((image_size, image_size, 3), dtype=np.uint8)\n",
        "    if label == 0:\n",
        "        # Classe 0: Círculos\n",
        "        center = (np.random.randint(10, image_size-10), np.random.randint(10, image_size-10))\n",
        "        radius = np.random.randint(5, 10)\n",
        "        color = (np.random.randint(256), np.random.randint(256), np.random.randint(256))\n",
        "        cv2.circle(image, center, radius, color, -1)\n",
        "    elif label == 1:\n",
        "        # Classe 1: Triângulos equiláteros\n",
        "        side_length = np.random.randint(10, 20)\n",
        "        height = int(np.sqrt(3)/2 * side_length)\n",
        "        center = (np.random.randint(side_length//2, image_size-side_length//2),\n",
        "                  np.random.randint(height//2, image_size-height//2))\n",
        "        pts = np.array([[center[0], center[1] - 2*height//3],\n",
        "                        [center[0] - side_length//2, center[1] + height//3],\n",
        "                        [center[0] + side_length//2, center[1] + height//3]], np.int32)\n",
        "        pts = pts.reshape((-1, 1, 2))\n",
        "        color = (np.random.randint(256), np.random.randint(256), np.random.randint(256))\n",
        "        cv2.fillPoly(image, [pts], color)\n",
        "    elif label == 2:\n",
        "        # Classe 2: Linhas Horizontais\n",
        "        y = np.random.randint(5, image_size-5)\n",
        "        color = (np.random.randint(256), np.random.randint(256), np.random.randint(256))\n",
        "        thickness = np.random.randint(1, 3)\n",
        "        cv2.line(image, (0, y), (image_size, y), color, thickness)\n",
        "    elif label == 3:\n",
        "        # Classe 3: Quadrados\n",
        "        top_left = (np.random.randint(10, image_size-10), np.random.randint(10, image_size-10))\n",
        "        size = np.random.randint(5, 10)\n",
        "        bottom_right = (top_left[0] + size, top_left[1] + size)\n",
        "        color = (np.random.randint(256), np.random.randint(256), np.random.randint(256))\n",
        "        cv2.rectangle(image, top_left, bottom_right, color, -1)\n",
        "    elif label == 4:\n",
        "        # Classe 4: Linhas Verticais\n",
        "        x = np.random.randint(5, image_size-5)\n",
        "        color = (np.random.randint(256), np.random.randint(256), np.random.randint(256))\n",
        "        thickness = np.random.randint(1, 3)\n",
        "        cv2.line(image, (x, 0), (x, image_size), color, thickness)\n",
        "\n",
        "    image = cv2.cvtColor(image, cv2.COLOR_BGR2RGB)\n",
        "    return image"
      ]
    },
    {
      "cell_type": "code",
      "execution_count": 5,
      "metadata": {
        "id": "ZJ97goZXx9mO"
      },
      "outputs": [],
      "source": [
        "def show_image(image):\n",
        "    plt.figure(figsize=(4, 4))\n",
        "    plt.imshow(image)\n",
        "    plt.axis(\"off\")\n",
        "    plt.show()"
      ]
    },
    {
      "cell_type": "code",
      "execution_count": 6,
      "metadata": {
        "id": "J4qT5M81x9mO",
        "colab": {
          "base_uri": "https://localhost:8080/",
          "height": 345
        },
        "outputId": "4e25c1d1-8ca0-4d8e-ced9-083561bd3fa0"
      },
      "outputs": [
        {
          "output_type": "display_data",
          "data": {
            "text/plain": [
              "<Figure size 400x400 with 1 Axes>"
            ],
            "image/png": "[encoded data removed]"
          },
          "metadata": {}
        }
      ],
      "source": [
        "show_image(generate_image(3))"
      ]
    },
    {
      "cell_type": "code",
      "execution_count": 7,
      "metadata": {
        "id": "m8Je73M5x9mO",
        "colab": {
          "base_uri": "https://localhost:8080/"
        },
        "outputId": "fbcfb0f3-32f1-465a-e21c-7e5d55864e75"
      },
      "outputs": [
        {
          "output_type": "stream",
          "name": "stderr",
          "text": [
            "100%|██████████| 2000/2000 [00:01<00:00, 1970.36it/s]\n"
          ]
        },
        {
          "output_type": "stream",
          "name": "stdout",
          "text": [
            "Dataset salvo em data/synthetic.csv\n"
          ]
        }
      ],
      "source": [
        "data = []\n",
        "labels = []\n",
        "for _ in tqdm(range(num_examples)):\n",
        "    label = np.random.randint(0, num_classes)\n",
        "    image = generate_image(label).flatten()\n",
        "    data.append(np.concatenate(([label], image)))\n",
        "    labels.append(label)\n",
        "\n",
        "data = np.array(data)\n",
        "\n",
        "# Salvando em CSV\n",
        "df = pd.DataFrame(data)\n",
        "os.makedirs(\"data\", exist_ok=True)\n",
        "df.to_csv(output_file, index=False, header=False)\n",
        "\n",
        "print(f\"Dataset salvo em {output_file}\")"
      ]
    },
    {
      "cell_type": "code",
      "execution_count": 8,
      "metadata": {
        "id": "_MP6XBOnx9mO"
      },
      "outputs": [],
      "source": [
        "import torch\n",
        "import torch.nn as nn\n",
        "import torch.optim as optim\n",
        "import torch.nn.functional as F\n",
        "from torch.utils.data import Dataset, DataLoader, Subset\n",
        "import torchvision\n",
        "import torchvision.transforms as transforms"
      ]
    },
    {
      "cell_type": "code",
      "execution_count": 9,
      "metadata": {
        "id": "nsGXpGfzx9mP"
      },
      "outputs": [],
      "source": [
        "# Definição da classe SyntheticCSVLoader para carregar o dataset a partir de um arquivo CSV. Baseie-se no MNISTDataset do notebook \"04 - Basic CNNs.ipynb\"\n",
        "class SyntheticCSVLoader(Dataset):\n",
        "    def __init__(self, csv_file, image_size=64, transform=None):\n",
        "        self.data = pd.read_csv(csv_file, header=None)\n",
        "        self.image_size = image_size\n",
        "        self.transform = transform\n",
        "\n",
        "    def __len__(self):\n",
        "        return len(self.data)\n",
        "\n",
        "    def __getitem__(self, idx):\n",
        "        # A primeira coluna é o rótulo\n",
        "        label = self.data.iloc[idx, 0]\n",
        "\n",
        "        # As demais colunas são os pixels da imagem (64x64x3)\n",
        "        image = self.data.iloc[idx, 1:].values.astype(np.uint8).reshape(self.image_size, self.image_size, 3)\n",
        "\n",
        "        # Converte a imagem para tensor e ajusta os eixos para o formato (C, H, W)\n",
        "        image = torch.tensor(image).permute(2, 0, 1)\n",
        "\n",
        "        if self.transform:\n",
        "            image = self.transform(image)\n",
        "\n",
        "        return image, label"
      ]
    },
    {
      "cell_type": "code",
      "execution_count": 10,
      "metadata": {
        "id": "YOVzfmFfx9mP"
      },
      "outputs": [],
      "source": [
        "transform = transforms.Compose([\n",
        "    transforms.ToPILImage(),    # Convertendo o array numpy para imagem PIL\n",
        "    transforms.ToTensor(),      # Convertendo a imagem PIL para tensor\n",
        "    transforms.Normalize((0.5,), (0.5,))  # Normalizando a imagem\n",
        "])\n",
        "\n",
        "synthetic_dataset = SyntheticCSVLoader(\n",
        "    csv_file=\"data/synthetic.csv\",\n",
        "    transform=transform\n",
        ")"
      ]
    },
    {
      "cell_type": "code",
      "execution_count": 11,
      "metadata": {
        "id": "9-AJJUcgx9mP"
      },
      "outputs": [],
      "source": [
        "# Dividindo o dataset em conjuntos de treino e teste\n",
        "trainset = Subset(synthetic_dataset, range(1800))\n",
        "valset = Subset(synthetic_dataset, range(1800, 2000))"
      ]
    },
    {
      "cell_type": "code",
      "execution_count": 12,
      "metadata": {
        "id": "SkRiU6qSx9mP"
      },
      "outputs": [],
      "source": [
        "# Criando DataLoaders para os subsets\n",
        "train_loader = DataLoader(trainset, batch_size=32, shuffle=True)\n",
        "val_loader = DataLoader(valset, batch_size=32, shuffle=True)"
      ]
    },
    {
      "cell_type": "code",
      "source": [
        "x, y = trainset[0]\n",
        "print(x.shape, y)"
      ],
      "metadata": {
        "colab": {
          "base_uri": "https://localhost:8080/"
        },
        "id": "wGr-FpKX3rYh",
        "outputId": "ccd87c27-0942-4e90-a415-a9ee21ad0fbd"
      },
      "execution_count": 13,
      "outputs": [
        {
          "output_type": "stream",
          "name": "stdout",
          "text": [
            "torch.Size([3, 64, 64]) 0\n"
          ]
        }
      ]
    },
    {
      "cell_type": "code",
      "execution_count": 14,
      "metadata": {
        "id": "aCOJdZuxx9mQ"
      },
      "outputs": [],
      "source": [
        "def train_model(model, trainloader, valloader, criterion, optimizer, num_epochs=5):\n",
        "    history = {\n",
        "        'train_losses': [],\n",
        "        'val_losses': [],\n",
        "        'train_accuracies': [],\n",
        "        'val_accuracies': []\n",
        "    }\n",
        "\n",
        "    for epoch in range(num_epochs):\n",
        "        # Treinamento\n",
        "        model.train()\n",
        "        running_loss = 0.0\n",
        "        correct = 0\n",
        "        total = 0\n",
        "        for i, data in tqdm(enumerate(trainloader, 0), total=len(trainloader)):\n",
        "            inputs, labels = data\n",
        "\n",
        "            optimizer.zero_grad()\n",
        "\n",
        "            outputs = model(inputs)\n",
        "            loss = criterion(outputs, labels)\n",
        "            loss.backward()\n",
        "            optimizer.step()\n",
        "\n",
        "            running_loss += loss.item()\n",
        "            _, predicted = torch.max(outputs.data, 1)\n",
        "            total += labels.size(0)\n",
        "            correct += (predicted == labels).sum().item()\n",
        "\n",
        "        train_loss = running_loss / len(trainloader)\n",
        "        train_acc = 100 * correct / total\n",
        "        history['train_losses'].append(train_loss)\n",
        "        history['train_accuracies'].append(train_acc)\n",
        "        print(f'Epoch {epoch+1}, Train Loss: {train_loss:.3f}, Train Accuracy: {train_acc:.2f}%')\n",
        "\n",
        "        # Validação\n",
        "        model.eval()\n",
        "        val_running_loss = 0.0\n",
        "        correct = 0\n",
        "        total = 0\n",
        "        with torch.no_grad():\n",
        "            for data in valloader:\n",
        "                inputs, labels = data\n",
        "                outputs = model(inputs)\n",
        "                loss = criterion(outputs, labels)\n",
        "                val_running_loss += loss.item()\n",
        "                _, predicted = torch.max(outputs.data, 1)\n",
        "                total += labels.size(0)\n",
        "                correct += (predicted == labels).sum().item()\n",
        "\n",
        "        val_loss = val_running_loss / len(valloader)\n",
        "        val_acc = 100 * correct / total\n",
        "        history['val_losses'].append(val_loss)\n",
        "        history['val_accuracies'].append(val_acc)\n",
        "        print(f'Epoch {epoch+1}, Val Loss: {val_loss:.3f}, Val Accuracy: {val_acc:.2f}%')\n",
        "\n",
        "    print('Treinamento concluído')\n",
        "    return history\n",
        "\n",
        "\n",
        "def plot_history(history):\n",
        "    fig, (ax1, ax2) = plt.subplots(1, 2, figsize=(12, 4))\n",
        "\n",
        "    ax1.plot(history['train_losses'], label='Train')\n",
        "    ax1.plot(history['val_losses'], label='Validation')\n",
        "    ax1.set_title('Loss')\n",
        "    ax1.legend()\n",
        "\n",
        "    ax2.plot(history['train_accuracies'], label='Train')\n",
        "    ax2.plot(history['val_accuracies'], label='Validation')\n",
        "    ax2.set_title('Accuracy')\n",
        "    ax2.legend()\n",
        "\n",
        "    plt.show()\n",
        "\n",
        "\n",
        "def test_model(model, testloader):\n",
        "    correct = 0\n",
        "    total = 0\n",
        "    with torch.no_grad():\n",
        "        for data in testloader:\n",
        "            images, labels = data\n",
        "            outputs = model(images)\n",
        "            _, predicted = torch.max(outputs.data, 1)\n",
        "            total += labels.size(0)\n",
        "            correct += (predicted == labels).sum().item()\n",
        "\n",
        "    print(f'Acurácia da rede na base de teste: {100 * correct / total:.2f}%')"
      ]
    },
    {
      "cell_type": "code",
      "execution_count": 47,
      "metadata": {
        "id": "EW_Ptu-_x9mQ",
        "colab": {
          "base_uri": "https://localhost:8080/"
        },
        "outputId": "eed05b70-5925-4853-bf6b-8ed799e0a13c"
      },
      "outputs": [
        {
          "output_type": "execute_result",
          "data": {
            "text/plain": [
              "torch.Size([32, 5])"
            ]
          },
          "metadata": {},
          "execution_count": 47
        }
      ],
      "source": [
        "class CNN(nn.Module):\n",
        "    def __init__(self, num_classes=5):\n",
        "        super().__init__()\n",
        "        self.net = nn.Sequential(\n",
        "            nn.Conv2d(3, 8, num_classes),\n",
        "            nn.ReLU(),\n",
        "            nn.MaxPool2d(2),\n",
        "            nn.Dropout(0.3),\n",
        "\n",
        "            nn.Conv2d(8, 16, num_classes),\n",
        "            nn.ReLU(),\n",
        "            nn.MaxPool2d(2),\n",
        "            nn.Dropout(0.3),\n",
        "\n",
        "            # nn.Conv2d(12, 24, num_classes),\n",
        "            # nn.ReLU(),\n",
        "            # nn.MaxPool2d(2),\n",
        "\n",
        "            nn.Flatten(),\n",
        "\n",
        "            nn.Linear(16*13*13, 64),\n",
        "            nn.ReLU(),\n",
        "            nn.Dropout(0.3),\n",
        "            nn.Linear(64, num_classes)\n",
        "\n",
        "            )\n",
        "\n",
        "    def forward(self, x):\n",
        "        x = self.net(x)\n",
        "\n",
        "        return x\n",
        "\n",
        "\n",
        "model = CNN()\n",
        "\n",
        "images, labels = next(iter(val_loader))\n",
        "\n",
        "model(images).shape"
      ]
    },
    {
      "cell_type": "code",
      "execution_count": 48,
      "metadata": {
        "id": "9C2JdENsx9mQ"
      },
      "outputs": [],
      "source": [
        "criterion = nn.CrossEntropyLoss()\n",
        "#optimizer = optim.SGD(model.parameters(), lr=0.001, momentum=0.9)\n",
        "optimizer = optim.Adam(model.parameters(), lr=1e-3)"
      ]
    },
    {
      "cell_type": "code",
      "execution_count": 49,
      "metadata": {
        "id": "O4xTulMQx9mQ",
        "colab": {
          "base_uri": "https://localhost:8080/"
        },
        "outputId": "9221223f-8921-4165-a36a-fecedf597001"
      },
      "outputs": [
        {
          "output_type": "stream",
          "name": "stderr",
          "text": [
            "100%|██████████| 57/57 [00:03<00:00, 14.84it/s]\n"
          ]
        },
        {
          "output_type": "stream",
          "name": "stdout",
          "text": [
            "Epoch 1, Train Loss: 1.607, Train Accuracy: 21.72%\n",
            "Epoch 1, Val Loss: 1.574, Val Accuracy: 20.00%\n"
          ]
        },
        {
          "output_type": "stream",
          "name": "stderr",
          "text": [
            "100%|██████████| 57/57 [00:03<00:00, 15.17it/s]\n"
          ]
        },
        {
          "output_type": "stream",
          "name": "stdout",
          "text": [
            "Epoch 2, Train Loss: 1.357, Train Accuracy: 35.17%\n",
            "Epoch 2, Val Loss: 1.158, Val Accuracy: 51.50%\n"
          ]
        },
        {
          "output_type": "stream",
          "name": "stderr",
          "text": [
            "100%|██████████| 57/57 [00:04<00:00, 12.18it/s]\n"
          ]
        },
        {
          "output_type": "stream",
          "name": "stdout",
          "text": [
            "Epoch 3, Train Loss: 0.831, Train Accuracy: 67.67%\n",
            "Epoch 3, Val Loss: 0.656, Val Accuracy: 74.00%\n"
          ]
        },
        {
          "output_type": "stream",
          "name": "stderr",
          "text": [
            "100%|██████████| 57/57 [00:03<00:00, 14.98it/s]\n"
          ]
        },
        {
          "output_type": "stream",
          "name": "stdout",
          "text": [
            "Epoch 4, Train Loss: 0.569, Train Accuracy: 75.67%\n",
            "Epoch 4, Val Loss: 0.611, Val Accuracy: 70.00%\n"
          ]
        },
        {
          "output_type": "stream",
          "name": "stderr",
          "text": [
            "100%|██████████| 57/57 [00:03<00:00, 14.98it/s]\n"
          ]
        },
        {
          "output_type": "stream",
          "name": "stdout",
          "text": [
            "Epoch 5, Train Loss: 0.446, Train Accuracy: 82.61%\n",
            "Epoch 5, Val Loss: 0.360, Val Accuracy: 89.50%\n"
          ]
        },
        {
          "output_type": "stream",
          "name": "stderr",
          "text": [
            "100%|██████████| 57/57 [00:04<00:00, 11.87it/s]\n"
          ]
        },
        {
          "output_type": "stream",
          "name": "stdout",
          "text": [
            "Epoch 6, Train Loss: 0.343, Train Accuracy: 87.50%\n",
            "Epoch 6, Val Loss: 0.258, Val Accuracy: 89.00%\n"
          ]
        },
        {
          "output_type": "stream",
          "name": "stderr",
          "text": [
            "100%|██████████| 57/57 [00:03<00:00, 14.97it/s]\n"
          ]
        },
        {
          "output_type": "stream",
          "name": "stdout",
          "text": [
            "Epoch 7, Train Loss: 0.293, Train Accuracy: 89.11%\n",
            "Epoch 7, Val Loss: 0.265, Val Accuracy: 90.00%\n"
          ]
        },
        {
          "output_type": "stream",
          "name": "stderr",
          "text": [
            "100%|██████████| 57/57 [00:03<00:00, 14.85it/s]\n"
          ]
        },
        {
          "output_type": "stream",
          "name": "stdout",
          "text": [
            "Epoch 8, Train Loss: 0.240, Train Accuracy: 91.39%\n",
            "Epoch 8, Val Loss: 0.160, Val Accuracy: 94.50%\n"
          ]
        },
        {
          "output_type": "stream",
          "name": "stderr",
          "text": [
            "100%|██████████| 57/57 [00:04<00:00, 11.84it/s]\n"
          ]
        },
        {
          "output_type": "stream",
          "name": "stdout",
          "text": [
            "Epoch 9, Train Loss: 0.252, Train Accuracy: 90.33%\n",
            "Epoch 9, Val Loss: 0.264, Val Accuracy: 91.00%\n"
          ]
        },
        {
          "output_type": "stream",
          "name": "stderr",
          "text": [
            "100%|██████████| 57/57 [00:03<00:00, 14.94it/s]\n"
          ]
        },
        {
          "output_type": "stream",
          "name": "stdout",
          "text": [
            "Epoch 10, Train Loss: 0.228, Train Accuracy: 90.83%\n",
            "Epoch 10, Val Loss: 0.168, Val Accuracy: 94.50%\n"
          ]
        },
        {
          "output_type": "stream",
          "name": "stderr",
          "text": [
            "100%|██████████| 57/57 [00:03<00:00, 15.13it/s]\n"
          ]
        },
        {
          "output_type": "stream",
          "name": "stdout",
          "text": [
            "Epoch 11, Train Loss: 0.233, Train Accuracy: 91.06%\n",
            "Epoch 11, Val Loss: 0.170, Val Accuracy: 96.50%\n"
          ]
        },
        {
          "output_type": "stream",
          "name": "stderr",
          "text": [
            "100%|██████████| 57/57 [00:04<00:00, 11.77it/s]\n"
          ]
        },
        {
          "output_type": "stream",
          "name": "stdout",
          "text": [
            "Epoch 12, Train Loss: 0.177, Train Accuracy: 93.28%\n",
            "Epoch 12, Val Loss: 0.122, Val Accuracy: 96.00%\n"
          ]
        },
        {
          "output_type": "stream",
          "name": "stderr",
          "text": [
            "100%|██████████| 57/57 [00:03<00:00, 14.96it/s]\n"
          ]
        },
        {
          "output_type": "stream",
          "name": "stdout",
          "text": [
            "Epoch 13, Train Loss: 0.156, Train Accuracy: 93.89%\n",
            "Epoch 13, Val Loss: 0.214, Val Accuracy: 90.50%\n"
          ]
        },
        {
          "output_type": "stream",
          "name": "stderr",
          "text": [
            "100%|██████████| 57/57 [00:03<00:00, 14.75it/s]\n"
          ]
        },
        {
          "output_type": "stream",
          "name": "stdout",
          "text": [
            "Epoch 14, Train Loss: 0.264, Train Accuracy: 89.06%\n",
            "Epoch 14, Val Loss: 0.299, Val Accuracy: 90.50%\n"
          ]
        },
        {
          "output_type": "stream",
          "name": "stderr",
          "text": [
            "100%|██████████| 57/57 [00:04<00:00, 11.72it/s]\n"
          ]
        },
        {
          "output_type": "stream",
          "name": "stdout",
          "text": [
            "Epoch 15, Train Loss: 0.221, Train Accuracy: 92.17%\n",
            "Epoch 15, Val Loss: 0.241, Val Accuracy: 91.00%\n",
            "Treinamento concluído\n"
          ]
        }
      ],
      "source": [
        "# Treinamento\n",
        "history = train_model(model, train_loader, val_loader, criterion, optimizer, num_epochs=15)"
      ]
    },
    {
      "cell_type": "code",
      "execution_count": 50,
      "metadata": {
        "id": "ttD1Z8yQx9mQ",
        "colab": {
          "base_uri": "https://localhost:8080/"
        },
        "outputId": "e7de531f-6c9f-4b6a-e1d3-df49c3fc9c6d"
      },
      "outputs": [
        {
          "output_type": "stream",
          "name": "stdout",
          "text": [
            "Acurácia da rede na base de teste: 91.00%\n"
          ]
        }
      ],
      "source": [
        "# Teste\n",
        "test_model(model, val_loader)"
      ]
    },
    {
      "cell_type": "code",
      "execution_count": 51,
      "metadata": {
        "id": "8rAAkGbdx9mR",
        "colab": {
          "base_uri": "https://localhost:8080/",
          "height": 391
        },
        "outputId": "14c2ba08-60fb-4f17-82aa-af0d8fbaabd2"
      },
      "outputs": [
        {
          "output_type": "display_data",
          "data": {
            "text/plain": [
              "<Figure size 1200x400 with 2 Axes>"
            ],
            "image/png": "[encoded data removed]"
          },
          "metadata": {}
        }
      ],
      "source": [
        "plot_history(history)"
      ]
    },
    {
      "cell_type": "code",
      "execution_count": null,
      "metadata": {
        "id": "CG35nhokx9mR"
      },
      "outputs": [],
      "source": []
    }
  ],
  "metadata": {
    "kernelspec": {
      "display_name": "base",
      "language": "python",
      "name": "python3"
    },
    "language_info": {
      "codemirror_mode": {
        "name": "ipython",
        "version": 3
      },
      "file_extension": ".py",
      "mimetype": "text/x-python",
      "name": "python",
      "nbconvert_exporter": "python",
      "pygments_lexer": "ipython3",
      "version": "3.10.13"
    },
    "colab": {
      "provenance": []
    }
  },
  "nbformat": 4,
  "nbformat_minor": 0
}