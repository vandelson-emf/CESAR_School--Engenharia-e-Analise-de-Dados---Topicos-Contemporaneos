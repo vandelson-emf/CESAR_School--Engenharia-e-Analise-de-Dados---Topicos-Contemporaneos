{
  "cells": [
    {
      "cell_type": "markdown",
      "metadata": {
        "id": "Zyzx0ZTU1ss0"
      },
      "source": [
        "# Redes Neurais com PyTorch\n",
        "\n",
        "PyTorch é uma biblioteca poderosa para construir e treinar redes neurais, amplamente usada em pesquisa e desenvolvimento de modelos de aprendizado profundo. Ele oferece ferramentas para manipulação eficiente de **tensores** — a estrutura de dados essencial para representar e processar informações em redes neurais — e integra suporte para cálculos automáticos de gradientes, fundamentais para o aprendizado dos parâmetros do modelo.\n",
        "\n",
        "## O que são Tensores?\n",
        "\n",
        "Tensores são estruturas de dados generalizadas que podem representar escalars, vetores, matrizes e dados de maior dimensionalidade. Em redes neurais, eles são usados para armazenar e operar sobre entradas, saídas, pesos e gradientes. Por exemplo:\n",
        "\n",
        "- **Escalar** (tensor de ordem 0): Representa um único número.\n",
        "- **Vetor** (tensor de ordem 1): Sequência de números, como uma lista.\n",
        "- **Matriz** (tensor de ordem 2): Tabela bidimensional de números.\n",
        "- **Tensor de ordem superior**: Estrutura com mais de duas dimensões, como imagens em RGB (com dimensões de altura, largura e canais de cor).\n",
        "\n",
        "Os tensores em PyTorch permitem cálculos eficientes e paralelos em GPUs, acelerando o treinamento de modelos complexos. Com eles, é possível realizar operações matemáticas como multiplicação de matrizes, somas e transformações que são fundamentais para as operações internas das redes neurais.\n",
        "\n",
        "Com PyTorch, é possível implementar redes neurais de diferentes arquiteturas de forma flexível e intuitiva, facilitando a criação de modelos personalizados. A biblioteca também inclui uma vasta coleção de funções de ativação, otimização e loss, além de camadas comuns para redes convolucionais, recorrentes e totalmente conectadas. PyTorch simplifica tanto a construção de modelos quanto o treinamento em GPUs, acelerando o desenvolvimento de soluções de inteligência artificial."
      ]
    },
    {
      "cell_type": "code",
      "execution_count": 1,
      "metadata": {
        "id": "bnV_Alnm1sGU"
      },
      "outputs": [],
      "source": [
        "import torch\n",
        "from torchvision import datasets, transforms\n",
        "import matplotlib.pyplot as plt"
      ]
    },
    {
      "cell_type": "code",
      "execution_count": 2,
      "metadata": {
        "id": "6HPFX1DI11un",
        "colab": {
          "base_uri": "https://localhost:8080/"
        },
        "outputId": "0af96dee-a476-41af-857d-bad2b7f0929f"
      },
      "outputs": [
        {
          "output_type": "stream",
          "name": "stdout",
          "text": [
            "Downloading http://yann.lecun.com/exdb/mnist/train-images-idx3-ubyte.gz\n",
            "Failed to download (trying next):\n",
            "HTTP Error 403: Forbidden\n",
            "\n",
            "Downloading https://ossci-datasets.s3.amazonaws.com/mnist/train-images-idx3-ubyte.gz\n",
            "Downloading https://ossci-datasets.s3.amazonaws.com/mnist/train-images-idx3-ubyte.gz to ./MNIST/raw/train-images-idx3-ubyte.gz\n"
          ]
        },
        {
          "output_type": "stream",
          "name": "stderr",
          "text": [
            "100%|██████████| 9.91M/9.91M [00:00<00:00, 35.7MB/s]\n"
          ]
        },
        {
          "output_type": "stream",
          "name": "stdout",
          "text": [
            "Extracting ./MNIST/raw/train-images-idx3-ubyte.gz to ./MNIST/raw\n",
            "\n",
            "Downloading http://yann.lecun.com/exdb/mnist/train-labels-idx1-ubyte.gz\n",
            "Failed to download (trying next):\n",
            "HTTP Error 403: Forbidden\n",
            "\n",
            "Downloading https://ossci-datasets.s3.amazonaws.com/mnist/train-labels-idx1-ubyte.gz\n",
            "Downloading https://ossci-datasets.s3.amazonaws.com/mnist/train-labels-idx1-ubyte.gz to ./MNIST/raw/train-labels-idx1-ubyte.gz\n"
          ]
        },
        {
          "output_type": "stream",
          "name": "stderr",
          "text": [
            "100%|██████████| 28.9k/28.9k [00:00<00:00, 1.25MB/s]\n"
          ]
        },
        {
          "output_type": "stream",
          "name": "stdout",
          "text": [
            "Extracting ./MNIST/raw/train-labels-idx1-ubyte.gz to ./MNIST/raw\n",
            "\n",
            "Downloading http://yann.lecun.com/exdb/mnist/t10k-images-idx3-ubyte.gz\n",
            "Failed to download (trying next):\n",
            "HTTP Error 403: Forbidden\n",
            "\n",
            "Downloading https://ossci-datasets.s3.amazonaws.com/mnist/t10k-images-idx3-ubyte.gz\n",
            "Downloading https://ossci-datasets.s3.amazonaws.com/mnist/t10k-images-idx3-ubyte.gz to ./MNIST/raw/t10k-images-idx3-ubyte.gz\n"
          ]
        },
        {
          "output_type": "stream",
          "name": "stderr",
          "text": [
            "100%|██████████| 1.65M/1.65M [00:00<00:00, 10.8MB/s]\n"
          ]
        },
        {
          "output_type": "stream",
          "name": "stdout",
          "text": [
            "Extracting ./MNIST/raw/t10k-images-idx3-ubyte.gz to ./MNIST/raw\n",
            "\n",
            "Downloading http://yann.lecun.com/exdb/mnist/t10k-labels-idx1-ubyte.gz\n",
            "Failed to download (trying next):\n",
            "HTTP Error 403: Forbidden\n",
            "\n",
            "Downloading https://ossci-datasets.s3.amazonaws.com/mnist/t10k-labels-idx1-ubyte.gz\n",
            "Downloading https://ossci-datasets.s3.amazonaws.com/mnist/t10k-labels-idx1-ubyte.gz to ./MNIST/raw/t10k-labels-idx1-ubyte.gz\n"
          ]
        },
        {
          "output_type": "stream",
          "name": "stderr",
          "text": [
            "100%|██████████| 4.54k/4.54k [00:00<00:00, 3.51MB/s]"
          ]
        },
        {
          "output_type": "stream",
          "name": "stdout",
          "text": [
            "Extracting ./MNIST/raw/t10k-labels-idx1-ubyte.gz to ./MNIST/raw\n",
            "\n"
          ]
        },
        {
          "output_type": "stream",
          "name": "stderr",
          "text": [
            "\n"
          ]
        }
      ],
      "source": [
        "# Transformação para normalizar os dados\n",
        "transform = transforms.Compose([\n",
        "    transforms.ToTensor(),\n",
        "    transforms.Normalize((0.1307,), (0.3081,))\n",
        "])\n",
        "\n",
        "# Carregando os dados de treinamento e teste\n",
        "train_dataset = datasets.MNIST('.', train=True, download=True, transform=transform)\n",
        "test_dataset = datasets.MNIST('.', train=False, transform=transform)\n",
        "\n",
        "# DataLoaders para iteração em batches\n",
        "train_loader = torch.utils.data.DataLoader(train_dataset, batch_size=64, shuffle=True)\n",
        "test_loader = torch.utils.data.DataLoader(test_dataset, batch_size=1000, shuffle=False)"
      ]
    },
    {
      "cell_type": "code",
      "execution_count": 5,
      "metadata": {
        "colab": {
          "base_uri": "https://localhost:8080/",
          "height": 316
        },
        "id": "v8zV5CIx4WWZ",
        "outputId": "3e2a473d-85db-416f-b3e0-9117081635d3"
      },
      "outputs": [
        {
          "output_type": "display_data",
          "data": {
            "text/plain": [
              "<Figure size 600x300 with 8 Axes>"
            ],
            "image/png": "[encoded data removed]"
          },
          "metadata": {}
        }
      ],
      "source": [
        "# Função para mostrar um grid de imagens\n",
        "def show_mnist_examples(dataset, num_rows=4, num_cols=4):\n",
        "    fig, axes = plt.subplots(num_rows, num_cols, figsize=(6, 3))\n",
        "    fig.suptitle(\"Exemplos do Dataset MNIST\", fontsize=16)\n",
        "\n",
        "    for i in range(num_rows * num_cols):\n",
        "        img, label = dataset[i]\n",
        "        ax = axes[i // num_cols, i % num_cols]\n",
        "        ax.imshow(img.squeeze(), cmap=\"gray\")\n",
        "        ax.set_title(f\"Label: {label}\")\n",
        "        ax.axis(\"off\")\n",
        "\n",
        "    plt.tight_layout()\n",
        "    plt.show()\n",
        "\n",
        "# Exibindo um grid de 4x4 imagens\n",
        "show_mnist_examples(train_dataset, num_rows=2, num_cols=4)"
      ]
    },
    {
      "cell_type": "markdown",
      "metadata": {
        "id": "C2jGYpQgBoDd"
      },
      "source": [
        "A equação total da rede neural com duas camadas é:\n",
        "\n",
        "$$\n",
        "\\text{output} = \\text{softmax}((\\text{ReLU}(X W_1 + b_1)) W_2 + b_2)\n",
        "$$\n",
        "\n",
        "onde:\n",
        "\n",
        "- **$ X $**: Entrada da rede com dimensão $ N \\times 784 $ (para $ N $ amostras).\n",
        "- **$ W_1 $** e **$ b_1 $**: Pesos e bias da primeira camada.\n",
        "- **$ W_2 $** e **$ b_2 $**: Pesos e bias da segunda camada.\n",
        "- **ReLU**: Função de ativação na camada oculta.\n",
        "- **softmax**: Função de ativação na camada de saída para normalizar as saídas em probabilidades."
      ]
    },
    {
      "cell_type": "code",
      "execution_count": 6,
      "metadata": {
        "id": "4krqd4hy3PnI"
      },
      "outputs": [],
      "source": [
        "torch.manual_seed(42)\n",
        "\n",
        "# Parâmetros da camada 1\n",
        "W1 = torch.randn(784, 128, requires_grad=True)\n",
        "b1 = torch.zeros(128, requires_grad=True)\n",
        "\n",
        "# Parâmetros da camada 2\n",
        "W2 = torch.randn(128, 10, requires_grad=True)\n",
        "b2 = torch.zeros(10, requires_grad=True)"
      ]
    },
    {
      "cell_type": "code",
      "source": [
        "W1.shape, b1.shape, W2.shape, b2.shape"
      ],
      "metadata": {
        "colab": {
          "base_uri": "https://localhost:8080/"
        },
        "id": "WPj9tyDEdR1T",
        "outputId": "a7960083-76ae-49bc-86f8-f9be72b98ef8"
      },
      "execution_count": 13,
      "outputs": [
        {
          "output_type": "execute_result",
          "data": {
            "text/plain": [
              "(torch.Size([784, 128]),\n",
              " torch.Size([128]),\n",
              " torch.Size([128, 10]),\n",
              " torch.Size([10]))"
            ]
          },
          "metadata": {},
          "execution_count": 13
        }
      ]
    },
    {
      "cell_type": "code",
      "execution_count": 7,
      "metadata": {
        "id": "HZWUYNBi3akr"
      },
      "outputs": [],
      "source": [
        "def relu(x):\n",
        "    return torch.maximum(x, torch.tensor(0.0))\n",
        "\n",
        "def model_1(x):\n",
        "    x = x.view(-1, 28*28)  # Achata a imagem em um vetor de 784 elementos\n",
        "    z1 = x @ W1 + b1\n",
        "    a1 = relu(z1)\n",
        "    z2 = a1 @ W2 + b2\n",
        "    return z2"
      ]
    },
    {
      "cell_type": "code",
      "execution_count": 15,
      "metadata": {
        "id": "2R8il6F4jpNt",
        "outputId": "d88a276a-02e3-474c-aac7-bc2b0b41351d",
        "colab": {
          "base_uri": "https://localhost:8080/"
        }
      },
      "outputs": [
        {
          "output_type": "stream",
          "name": "stdout",
          "text": [
            "x=torch.Size([64, 1, 28, 28]), y=torch.Size([64])\n"
          ]
        }
      ],
      "source": [
        "x, y = next(iter(train_loader))\n",
        "\n",
        "print (f'x={x.shape}, y={y.shape}')"
      ]
    },
    {
      "cell_type": "code",
      "execution_count": 9,
      "metadata": {
        "colab": {
          "base_uri": "https://localhost:8080/"
        },
        "id": "5lwbfxM0kAwl",
        "outputId": "ed34ad33-a583-486e-cf56-6da5744cf9e2"
      },
      "outputs": [
        {
          "output_type": "execute_result",
          "data": {
            "text/plain": [
              "torch.Size([64, 128])"
            ]
          },
          "metadata": {},
          "execution_count": 9
        }
      ],
      "source": [
        "x = x.view(-1, 28*28)\n",
        "z1 = x @ W1 + b1\n",
        "z1.shape"
      ]
    },
    {
      "cell_type": "markdown",
      "metadata": {
        "id": "cWuFp53iXxj_"
      },
      "source": [
        "A equação da perda de entropia cruzada com softmax para $ N $ amostras é:\n",
        "\n",
        "$$\n",
        "\\text{Loss} = -\\frac{1}{N} \\sum_{i=1}^N \\log(p_{\\text{true}}^{(i)})\n",
        "$$\n",
        "onde:\n",
        "- **$ \\text{Loss} $**: Média da perda para todas as amostras, representando a entropia cruzada média entre as previsões e os rótulos verdadeiros.\n",
        "- **$ N $**: Número total de amostras.\n",
        "- **$ p_{\\text{true}}^{(i)} $**: Probabilidade prevista para a classe correta da $ i $-ésima amostra, obtida pelo softmax.\n",
        "- **$ \\log(p_{\\text{true}}^{(i)}) $**: Logaritmo da probabilidade da classe correta, penalizando previsões incorretas mais fortemente quanto menor for a probabilidade da classe correta.\n"
      ]
    },
    {
      "cell_type": "code",
      "execution_count": 10,
      "metadata": {
        "id": "x6EjHm58Wq8w"
      },
      "outputs": [],
      "source": [
        "def softmax_cross_entropy(logits, labels):\n",
        "    logits_exp = torch.exp(logits - torch.max(logits, dim=1, keepdim=True).values)\n",
        "    softmax = logits_exp / torch.sum(logits_exp, dim=1, keepdim=True)\n",
        "    log_softmax = torch.log(torch.clamp(softmax, min=1e-9))\n",
        "    correct_log_probs = log_softmax.gather(1, labels.unsqueeze(1)).squeeze(1)\n",
        "    loss = -torch.mean(correct_log_probs)\n",
        "    return loss"
      ]
    },
    {
      "cell_type": "code",
      "execution_count": 16,
      "metadata": {
        "id": "a_Amk4rcaWtR"
      },
      "outputs": [],
      "source": [
        "from tqdm import tqdm\n",
        "\n",
        "def train_model(train_loader, train_dataset, model, optimizer, loss_fn, num_epochs=5):\n",
        "    for epoch in range(num_epochs):\n",
        "        total_loss = 0\n",
        "        correct = 0\n",
        "        for data, target in tqdm(train_loader):\n",
        "            logits = model(data)\n",
        "            loss = loss_fn(logits, target)\n",
        "            total_loss += loss.item()\n",
        "\n",
        "            predictions = torch.argmax(logits, dim=1)\n",
        "            correct += (predictions == target).sum().item()\n",
        "\n",
        "            optimizer.zero_grad()\n",
        "            loss.backward()\n",
        "            optimizer.step()\n",
        "\n",
        "        avg_loss = total_loss / len(train_loader)\n",
        "        accuracy = correct / len(train_dataset)\n",
        "        print(f\"Epoch {epoch + 1}, Loss: {avg_loss:.4f}, Accuracy: {accuracy:.4f}\")"
      ]
    },
    {
      "cell_type": "code",
      "execution_count": 17,
      "metadata": {
        "colab": {
          "base_uri": "https://localhost:8080/"
        },
        "id": "diJNBlk6aYjA",
        "outputId": "c9128edb-a3f9-4e3a-a86a-cccba80cc846"
      },
      "outputs": [
        {
          "output_type": "stream",
          "name": "stderr",
          "text": [
            "100%|██████████| 938/938 [00:20<00:00, 45.27it/s]\n"
          ]
        },
        {
          "output_type": "stream",
          "name": "stdout",
          "text": [
            "Epoch 1, Loss: 7.8008, Accuracy: 0.6177\n"
          ]
        },
        {
          "output_type": "stream",
          "name": "stderr",
          "text": [
            "100%|██████████| 938/938 [00:20<00:00, 46.18it/s]\n"
          ]
        },
        {
          "output_type": "stream",
          "name": "stdout",
          "text": [
            "Epoch 2, Loss: 5.4783, Accuracy: 0.7323\n"
          ]
        },
        {
          "output_type": "stream",
          "name": "stderr",
          "text": [
            "100%|██████████| 938/938 [00:19<00:00, 48.25it/s]\n"
          ]
        },
        {
          "output_type": "stream",
          "name": "stdout",
          "text": [
            "Epoch 3, Loss: 5.2187, Accuracy: 0.7455\n"
          ]
        },
        {
          "output_type": "stream",
          "name": "stderr",
          "text": [
            "100%|██████████| 938/938 [00:20<00:00, 46.67it/s]\n"
          ]
        },
        {
          "output_type": "stream",
          "name": "stdout",
          "text": [
            "Epoch 4, Loss: 5.0534, Accuracy: 0.7538\n"
          ]
        },
        {
          "output_type": "stream",
          "name": "stderr",
          "text": [
            "100%|██████████| 938/938 [00:20<00:00, 46.75it/s]"
          ]
        },
        {
          "output_type": "stream",
          "name": "stdout",
          "text": [
            "Epoch 5, Loss: 4.9464, Accuracy: 0.7591\n"
          ]
        },
        {
          "output_type": "stream",
          "name": "stderr",
          "text": [
            "\n"
          ]
        }
      ],
      "source": [
        "optimizer = torch.optim.SGD([W1, b1, W2, b2], lr=0.1)\n",
        "train_model(train_loader, train_dataset, model_1, optimizer, softmax_cross_entropy, num_epochs=5)"
      ]
    },
    {
      "cell_type": "markdown",
      "metadata": {
        "id": "b3bpK7n9b9rH"
      },
      "source": [
        "# Introdução ao `torch.nn`\n",
        "\n",
        "O módulo `torch.nn` fornece classes e funções úteis para a construção de redes neurais no PyTorch. Ele oferece camadas predefinidas, funções de ativação, funções de perda e muito mais, facilitando o desenvolvimento de modelos complexos."
      ]
    },
    {
      "cell_type": "code",
      "execution_count": 18,
      "metadata": {
        "id": "NE1PiwinDW7K"
      },
      "outputs": [],
      "source": [
        "import torch.nn as nn"
      ]
    },
    {
      "cell_type": "markdown",
      "metadata": {
        "id": "fgcPfcETDU56"
      },
      "source": [
        "## `nn.Linear`\n",
        "\n",
        "Para entender como `torch.nn` pode simplificar a construção de redes neurais, vamos começar com `nn.Linear`, uma camada que aplica uma transformação linear. A camada `nn.Linear` é definida como:\n",
        "\n",
        "$$\n",
        "\\text{output} = \\text{input} \\times \\text{weight}^T + \\text{bias}\n",
        "$$"
      ]
    },
    {
      "cell_type": "code",
      "execution_count": 20,
      "metadata": {
        "colab": {
          "base_uri": "https://localhost:8080/"
        },
        "id": "5fWOlE48a5ul",
        "outputId": "ec52950c-08c8-400f-a413-7414ed5e6b42"
      },
      "outputs": [
        {
          "output_type": "stream",
          "name": "stdout",
          "text": [
            "Input:\n",
            " tensor([[ 0.3367, -1.1663, -2.2917, -2.0169]])\n",
            "Output:\n",
            " tensor([[ 1.0072,  0.6396, -0.2663]], grad_fn=<AddmmBackward0>)\n",
            "Pesos:\n",
            " Parameter containing:\n",
            "tensor([[ 0.3546,  0.3092, -0.1702, -0.3153],\n",
            "        [ 0.2994, -0.0269, -0.1068, -0.0239],\n",
            "        [-0.4506, -0.1330,  0.4244, -0.3686]], requires_grad=True)\n",
            "Bias:\n",
            " Parameter containing:\n",
            "tensor([ 0.2225,  0.2145, -0.0406], requires_grad=True)\n"
          ]
        }
      ],
      "source": [
        "# Exemplo de uso da camada Linear\n",
        "linear_layer = nn.Linear(in_features=4, out_features=3)\n",
        "input_tensor = torch.randn(1, 4)  # Batch de tamanho 1 com 4 features\n",
        "output_tensor = linear_layer(input_tensor)\n",
        "\n",
        "print(\"Input:\\n\", input_tensor)\n",
        "print(\"Output:\\n\", output_tensor)\n",
        "print(\"Pesos:\\n\", linear_layer.weight)\n",
        "print(\"Bias:\\n\", linear_layer.bias)"
      ]
    },
    {
      "cell_type": "markdown",
      "metadata": {
        "id": "wpOUe0-IA3nU"
      },
      "source": [
        "# Construindo Modelos com `nn.Sequential`\n",
        "\n",
        "O `nn.Sequential` é uma maneira prática e concisa de construir redes neurais no PyTorch. Ele permite empilhar camadas e operações em sequência, o que é ideal para redes em que cada camada é aplicada uma após a outra, sem operações intermediárias complexas."
      ]
    },
    {
      "cell_type": "code",
      "execution_count": 21,
      "metadata": {
        "colab": {
          "base_uri": "https://localhost:8080/"
        },
        "id": "_UoNQwhfa5xg",
        "outputId": "56a276f7-e678-4de0-8655-9b5366286f0b"
      },
      "outputs": [
        {
          "output_type": "stream",
          "name": "stdout",
          "text": [
            "Input: tensor([[-1.9820,  1.1826, -1.3573, -0.0082]])\n",
            "Output: tensor([[-0.5303, -0.1114]], grad_fn=<AddmmBackward0>)\n"
          ]
        }
      ],
      "source": [
        "simple_model = nn.Sequential(\n",
        "    nn.Linear(4, 3),  # Camada Linear de 4 entradas para 3 saídas\n",
        "    nn.ReLU(),        # Função de ativação ReLU\n",
        "    nn.Linear(3, 2)   # Camada Linear de 3 entradas para 2 saídas\n",
        ")\n",
        "\n",
        "# Exemplo de uso\n",
        "input_tensor = torch.randn(1, 4)  # Batch de tamanho 1 com 4 features\n",
        "output_tensor = simple_model(input_tensor)\n",
        "\n",
        "print(\"Input:\", input_tensor)\n",
        "print(\"Output:\", output_tensor)"
      ]
    },
    {
      "cell_type": "code",
      "execution_count": 22,
      "metadata": {
        "id": "CNU0l1c0a50g"
      },
      "outputs": [],
      "source": [
        "model_2 = nn.Sequential(\n",
        "    nn.Flatten(),         # Transforma a imagem em um vetor de 784 elementos (28 * 28 = 784)\n",
        "    nn.Linear(784, 128),  # Camada Linear de entrada\n",
        "    nn.ReLU(),            # Função de ativação\n",
        "    nn.Linear(128, 10)    # Camada Linear de saída\n",
        ")"
      ]
    },
    {
      "cell_type": "code",
      "execution_count": 23,
      "metadata": {
        "colab": {
          "base_uri": "https://localhost:8080/"
        },
        "id": "MAw1ITnGoNXx",
        "outputId": "5c022066-1029-450f-bd04-61318dabeeee"
      },
      "outputs": [
        {
          "output_type": "execute_result",
          "data": {
            "text/plain": [
              "Sequential(\n",
              "  (0): Flatten(start_dim=1, end_dim=-1)\n",
              "  (1): Linear(in_features=784, out_features=128, bias=True)\n",
              "  (2): ReLU()\n",
              "  (3): Linear(in_features=128, out_features=10, bias=True)\n",
              ")"
            ]
          },
          "metadata": {},
          "execution_count": 23
        }
      ],
      "source": [
        "model_2"
      ]
    },
    {
      "cell_type": "code",
      "execution_count": 24,
      "metadata": {
        "id": "P_IAFQCPa53M"
      },
      "outputs": [],
      "source": [
        "loss_fn = nn.CrossEntropyLoss()  # Entropia cruzada para problemas de classificação\n",
        "optimizer = torch.optim.SGD(model_2.parameters(), lr=0.1)"
      ]
    },
    {
      "cell_type": "code",
      "execution_count": 25,
      "metadata": {
        "colab": {
          "base_uri": "https://localhost:8080/"
        },
        "id": "rPNusqfMChvZ",
        "outputId": "a0fa9ee1-ee93-4fb2-c1fe-974641620724"
      },
      "outputs": [
        {
          "output_type": "stream",
          "name": "stderr",
          "text": [
            "100%|██████████| 938/938 [00:18<00:00, 50.43it/s]\n"
          ]
        },
        {
          "output_type": "stream",
          "name": "stdout",
          "text": [
            "Epoch 1, Loss: 0.2650, Accuracy: 0.9214\n"
          ]
        },
        {
          "output_type": "stream",
          "name": "stderr",
          "text": [
            "100%|██████████| 938/938 [00:19<00:00, 48.62it/s]\n"
          ]
        },
        {
          "output_type": "stream",
          "name": "stdout",
          "text": [
            "Epoch 2, Loss: 0.1173, Accuracy: 0.9657\n"
          ]
        },
        {
          "output_type": "stream",
          "name": "stderr",
          "text": [
            "100%|██████████| 938/938 [00:18<00:00, 51.34it/s]\n"
          ]
        },
        {
          "output_type": "stream",
          "name": "stdout",
          "text": [
            "Epoch 3, Loss: 0.0824, Accuracy: 0.9757\n"
          ]
        },
        {
          "output_type": "stream",
          "name": "stderr",
          "text": [
            "100%|██████████| 938/938 [00:20<00:00, 45.83it/s]\n"
          ]
        },
        {
          "output_type": "stream",
          "name": "stdout",
          "text": [
            "Epoch 4, Loss: 0.0631, Accuracy: 0.9813\n"
          ]
        },
        {
          "output_type": "stream",
          "name": "stderr",
          "text": [
            "100%|██████████| 938/938 [00:18<00:00, 50.82it/s]"
          ]
        },
        {
          "output_type": "stream",
          "name": "stdout",
          "text": [
            "Epoch 5, Loss: 0.0497, Accuracy: 0.9850\n"
          ]
        },
        {
          "output_type": "stream",
          "name": "stderr",
          "text": [
            "\n"
          ]
        }
      ],
      "source": [
        "train_model(train_loader, train_dataset, model_2, optimizer, loss_fn, num_epochs=5)"
      ]
    },
    {
      "cell_type": "markdown",
      "metadata": {
        "id": "Sy1z1vMIDink"
      },
      "source": [
        "# Construindo Modelos com `nn.Module`\n",
        "\n",
        "Embora `nn.Sequential` seja útil para redes simples onde as camadas são aplicadas em sequência, ele é limitado quando precisamos de mais flexibilidade. Para casos mais complexos, onde podemos querer camadas adicionais, diferentes caminhos de cálculo ou operações customizadas, o PyTorch oferece a classe `nn.Module`.\n",
        "\n",
        "Ao criar um modelo com `nn.Module`, temos controle total sobre a arquitetura e o fluxo de dados, pois definimos as camadas e o método `forward` explicitamente.\n",
        "\n",
        "## Estrutura Básica de um `nn.Module`\n",
        "\n",
        "Para construir um modelo com `nn.Module`, criamos uma classe que herda de `nn.Module` e define as camadas e o fluxo dos dados. A estrutura básica é:\n",
        "\n",
        "1. No método `__init__`, definimos as camadas.\n",
        "2. No método `forward`, definimos o fluxo de dados."
      ]
    },
    {
      "cell_type": "code",
      "execution_count": 26,
      "metadata": {
        "id": "RHP2XK6c46Rc"
      },
      "outputs": [],
      "source": [
        "class SimpleNN(nn.Module):\n",
        "    def __init__(self):\n",
        "        super().__init__()\n",
        "        # Definindo as camadas\n",
        "        self.fc1 = nn.Linear(784, 128)  # Camada totalmente conectada de entrada\n",
        "        self.relu = nn.ReLU()           # Função de ativação ReLU\n",
        "        self.fc2 = nn.Linear(128, 10)   # Camada totalmente conectada de saída\n",
        "\n",
        "        # Initialize\n",
        "        nn.init.xavier_uniform_(self.fc1.weight)\n",
        "        nn.init.zeros_(self.fc1.bias)\n",
        "\n",
        "    def forward(self, x):\n",
        "        # Definindo o fluxo de dados\n",
        "        x = x.view(-1, 28*28)  # Achata a imagem para um vetor de 784 elementos\n",
        "        x = self.fc1(x)\n",
        "        x = self.relu(x)\n",
        "        x = self.fc2(x)\n",
        "        return x"
      ]
    },
    {
      "cell_type": "code",
      "execution_count": 27,
      "metadata": {
        "id": "nGdKkAtDD9ru"
      },
      "outputs": [],
      "source": [
        "model_3 = SimpleNN()"
      ]
    },
    {
      "cell_type": "code",
      "execution_count": 28,
      "metadata": {
        "id": "ErFK-J4Tp7Ri"
      },
      "outputs": [],
      "source": [
        "pred = model_3(x)"
      ]
    },
    {
      "cell_type": "code",
      "execution_count": 29,
      "metadata": {
        "id": "M0jPq-RWERDC"
      },
      "outputs": [],
      "source": [
        "loss_fn = nn.CrossEntropyLoss()  # Entropia cruzada para problemas de classificação\n",
        "optimizer = torch.optim.SGD(model_3.parameters(), lr=0.1)"
      ]
    },
    {
      "cell_type": "code",
      "execution_count": 30,
      "metadata": {
        "colab": {
          "base_uri": "https://localhost:8080/"
        },
        "id": "bDApUbZ7EeJb",
        "outputId": "d1e9220e-4a54-468f-a454-46a7dcec3fbe"
      },
      "outputs": [
        {
          "output_type": "stream",
          "name": "stderr",
          "text": [
            "100%|██████████| 938/938 [00:19<00:00, 47.82it/s]\n"
          ]
        },
        {
          "output_type": "stream",
          "name": "stdout",
          "text": [
            "Epoch 1, Loss: 0.2584, Accuracy: 0.9225\n"
          ]
        },
        {
          "output_type": "stream",
          "name": "stderr",
          "text": [
            "100%|██████████| 938/938 [00:18<00:00, 50.86it/s]\n"
          ]
        },
        {
          "output_type": "stream",
          "name": "stdout",
          "text": [
            "Epoch 2, Loss: 0.1145, Accuracy: 0.9659\n"
          ]
        },
        {
          "output_type": "stream",
          "name": "stderr",
          "text": [
            "100%|██████████| 938/938 [00:19<00:00, 47.37it/s]\n"
          ]
        },
        {
          "output_type": "stream",
          "name": "stdout",
          "text": [
            "Epoch 3, Loss: 0.0796, Accuracy: 0.9768\n"
          ]
        },
        {
          "output_type": "stream",
          "name": "stderr",
          "text": [
            "100%|██████████| 938/938 [00:18<00:00, 50.88it/s]\n"
          ]
        },
        {
          "output_type": "stream",
          "name": "stdout",
          "text": [
            "Epoch 4, Loss: 0.0622, Accuracy: 0.9810\n"
          ]
        },
        {
          "output_type": "stream",
          "name": "stderr",
          "text": [
            "100%|██████████| 938/938 [00:19<00:00, 48.11it/s]"
          ]
        },
        {
          "output_type": "stream",
          "name": "stdout",
          "text": [
            "Epoch 5, Loss: 0.0484, Accuracy: 0.9858\n"
          ]
        },
        {
          "output_type": "stream",
          "name": "stderr",
          "text": [
            "\n"
          ]
        }
      ],
      "source": [
        "train_model(train_loader, train_dataset, model_3, optimizer, loss_fn, num_epochs=5)"
      ]
    },
    {
      "cell_type": "code",
      "execution_count": 31,
      "metadata": {
        "colab": {
          "base_uri": "https://localhost:8080/"
        },
        "id": "qEL97ICpq7nt",
        "outputId": "da75683b-b9c8-4597-93b9-2dbbd785ff4f"
      },
      "outputs": [
        {
          "output_type": "execute_result",
          "data": {
            "text/plain": [
              "(torch.Size([1, 28, 28]), 7)"
            ]
          },
          "metadata": {},
          "execution_count": 31
        }
      ],
      "source": [
        "x, y = test_dataset[0]\n",
        "x.shape, y"
      ]
    },
    {
      "cell_type": "code",
      "execution_count": 33,
      "metadata": {
        "id": "y0c9zb7drKek",
        "outputId": "6e68d2fa-cd6a-4da5-bae5-9c94754ca365",
        "colab": {
          "base_uri": "https://localhost:8080/"
        }
      },
      "outputs": [
        {
          "output_type": "stream",
          "name": "stdout",
          "text": [
            "tensor(7)\n",
            "tensor([[4.1424e-06, 5.7015e-06, 1.4518e-04, 1.9890e-03, 6.0886e-09, 5.4678e-07,\n",
            "         8.3342e-10, 9.9677e-01, 7.1832e-05, 1.0106e-03]])\n"
          ]
        }
      ],
      "source": [
        "with torch.no_grad():\n",
        "  pred = model_3(x.unsqueeze(0))\n",
        "\n",
        "y_pred = pred.argmax()\n",
        "\n",
        "print(y_pred)\n",
        "print(torch.softmax(pred, dim=1))"
      ]
    },
    {
      "cell_type": "code",
      "source": [
        "# logits\n",
        "\n",
        "pred"
      ],
      "metadata": {
        "colab": {
          "base_uri": "https://localhost:8080/"
        },
        "id": "F6FH6zKpjhGH",
        "outputId": "bb6961d0-e3c7-4988-e535-3657d926527e"
      },
      "execution_count": 34,
      "outputs": [
        {
          "output_type": "execute_result",
          "data": {
            "text/plain": [
              "tensor([[-1.3050, -0.9855,  2.2517,  4.8691, -7.8276, -3.3300, -9.8162, 11.0860,\n",
              "          1.5481,  4.1920]])"
            ]
          },
          "metadata": {},
          "execution_count": 34
        }
      ]
    },
    {
      "cell_type": "markdown",
      "metadata": {
        "id": "hpGbowzLK0_O"
      },
      "source": [
        "## Exercícios\n",
        "Agora é sua vez!"
      ]
    },
    {
      "cell_type": "markdown",
      "metadata": {
        "id": "ZQnLEztLK0_P"
      },
      "source": [
        "### Exercício 1\n",
        "\n",
        "Em um dado problema, você deverá implementar um modelo que receba como entrada imagens de dimensões 16x16, possua 2 camadas ocultas e terá como saída 5 classes. Implemente a classe referente ao modelo (utilize `nn.Module`) e teste com tensores aleatórios."
      ]
    },
    {
      "cell_type": "code",
      "execution_count": 36,
      "metadata": {
        "id": "Dxk3P5xoK0_P",
        "colab": {
          "base_uri": "https://localhost:8080/"
        },
        "outputId": "b09974e0-4f10-4139-e602-8a4a71f5b7c5"
      },
      "outputs": [
        {
          "output_type": "execute_result",
          "data": {
            "text/plain": [
              "tensor([[0.0986, 0.1152, 0.1413, 0.2175, 0.1052]], grad_fn=<AddmmBackward0>)"
            ]
          },
          "metadata": {},
          "execution_count": 36
        }
      ],
      "source": [
        "class ImageClassifier(nn.Module):\n",
        "    def __init__(self):\n",
        "        super(ImageClassifier, self).__init__()\n",
        "        self.fc1 = nn.Linear(16 * 16, 128)\n",
        "        self.relu1 = nn.ReLU()\n",
        "        self.fc2 = nn.Linear(128, 64)\n",
        "        self.relu2 = nn.ReLU()\n",
        "        self.fc3 = nn.Linear(64, 5)\n",
        "\n",
        "    def forward(self, x):\n",
        "        x = x.view(-1, 16 * 16)\n",
        "        x = self.fc1(x)\n",
        "        x = self.relu1(x)\n",
        "        x = self.fc2(x)\n",
        "        x = self.relu2(x)\n",
        "        x = self.fc3(x)\n",
        "        return x\n",
        "\n",
        "# Testando com um tensor aleatório\n",
        "model = ImageClassifier()\n",
        "random_input = torch.randn(1, 16, 16)  # Um exemplo de entrada\n",
        "output = model(random_input)\n",
        "output"
      ]
    },
    {
      "cell_type": "markdown",
      "metadata": {
        "id": "T82nBbZBK0_P"
      },
      "source": [
        "### Exercício 2\n",
        "\n",
        "Agora, considere o mesmo problema do exercício anterior mas considere que as imagens são RGB. Compare o número de parâmetros deste modelo com o anterior."
      ]
    },
    {
      "cell_type": "code",
      "execution_count": 37,
      "metadata": {
        "id": "B6tXX_ChK0_P",
        "colab": {
          "base_uri": "https://localhost:8080/"
        },
        "outputId": "b19e54ec-efc9-4cc8-e6da-bc92dba39abc"
      },
      "outputs": [
        {
          "output_type": "stream",
          "name": "stdout",
          "text": [
            "Número de parâmetros do modelo original: 41477\n",
            "Número de parâmetros do modelo RGB: 107013\n"
          ]
        }
      ],
      "source": [
        "class RGBImageClassifier(nn.Module):\n",
        "    def __init__(self):\n",
        "        super(RGBImageClassifier, self).__init__()\n",
        "        self.fc1 = nn.Linear(16 * 16 * 3, 128)  # Entrada agora com 3 canais\n",
        "        self.relu1 = nn.ReLU()\n",
        "        self.fc2 = nn.Linear(128, 64)\n",
        "        self.relu2 = nn.ReLU()\n",
        "        self.fc3 = nn.Linear(64, 5)\n",
        "\n",
        "    def forward(self, x):\n",
        "        x = x.view(-1, 16 * 16 * 3)  # Achatar com 3 canais\n",
        "        x = self.fc1(x)\n",
        "        x = self.relu1(x)\n",
        "        x = self.fc2(x)\n",
        "        x = self.relu2(x)\n",
        "        x = self.fc3(x)\n",
        "        return x\n",
        "\n",
        "# Testando com um tensor aleatório\n",
        "rgb_model = RGBImageClassifier()\n",
        "random_rgb_input = torch.randn(1, 3, 16, 16)  # Entrada RGB\n",
        "rgb_output = rgb_model(random_rgb_input)\n",
        "\n",
        "\n",
        "# Comparando o número de parâmetros... Aqui apelei pro Gemini mesmo pq não tinha nem noção de como fazer este cálculo\n",
        "def count_parameters(model):\n",
        "  return sum(p.numel() for p in model.parameters() if p.requires_grad)\n",
        "\n",
        "print(\"Número de parâmetros do modelo original:\", count_parameters(ImageClassifier()))\n",
        "print(\"Número de parâmetros do modelo RGB:\", count_parameters(rgb_model))"
      ]
    },
    {
      "cell_type": "code",
      "source": [
        "for p in model.parameters():\n",
        "  print (f'shape: {p.shape}, requires_grad: {p.requires_grad}')\n",
        "  p.numel\n",
        "  # print(p.shape)\n",
        "  # print(p.requires_grad)"
      ],
      "metadata": {
        "colab": {
          "base_uri": "https://localhost:8080/"
        },
        "id": "sqOPLp6zuWo8",
        "outputId": "0c5a6431-be18-48c8-8466-52e15209010d"
      },
      "execution_count": 47,
      "outputs": [
        {
          "output_type": "stream",
          "name": "stdout",
          "text": [
            "shape: torch.Size([128, 256]), requires_grad: True\n",
            "shape: torch.Size([128]), requires_grad: True\n",
            "shape: torch.Size([64, 128]), requires_grad: True\n",
            "shape: torch.Size([64]), requires_grad: True\n",
            "shape: torch.Size([5, 64]), requires_grad: True\n",
            "shape: torch.Size([5]), requires_grad: True\n"
          ]
        }
      ]
    }
  ],
  "metadata": {
    "colab": {
      "provenance": []
    },
    "kernelspec": {
      "display_name": "base",
      "language": "python",
      "name": "python3"
    },
    "language_info": {
      "codemirror_mode": {
        "name": "ipython",
        "version": 3
      },
      "file_extension": ".py",
      "mimetype": "text/x-python",
      "name": "python",
      "nbconvert_exporter": "python",
      "pygments_lexer": "ipython3",
      "version": "3.10.13"
    }
  },
  "nbformat": 4,
  "nbformat_minor": 0
}