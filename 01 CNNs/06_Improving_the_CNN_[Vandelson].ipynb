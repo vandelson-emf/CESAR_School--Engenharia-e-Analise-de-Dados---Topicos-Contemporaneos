{
  "cells": [
    {
      "cell_type": "code",
      "execution_count": 1,
      "metadata": {
        "id": "0JKnIUUNkew_"
      },
      "outputs": [],
      "source": [
        "# Importando as bibliotecas necessárias\n",
        "import torch\n",
        "import torch.nn as nn\n",
        "import torch.optim as optim\n",
        "import torch.nn.functional as F\n",
        "from torch.utils.data import Dataset, DataLoader, Subset\n",
        "import torchvision\n",
        "import torchvision.transforms as transforms\n",
        "import matplotlib.pyplot as plt\n",
        "import numpy as np\n",
        "import pandas as pd\n",
        "from tqdm import tqdm"
      ]
    },
    {
      "cell_type": "code",
      "execution_count": 2,
      "metadata": {
        "id": "7ffzuzLYkexH",
        "colab": {
          "base_uri": "https://localhost:8080/"
        },
        "outputId": "b1335384-f284-4acb-e34f-a5db6f6ef093"
      },
      "outputs": [
        {
          "output_type": "stream",
          "name": "stdout",
          "text": [
            "--2025-01-11 13:50:09--  https://pjreddie.com/media/files/mnist_train.csv\n",
            "Resolving pjreddie.com (pjreddie.com)... 162.0.215.52\n",
            "Connecting to pjreddie.com (pjreddie.com)|162.0.215.52|:443... connected.\n",
            "HTTP request sent, awaiting response... 200 OK\n",
            "Length: 109575994 (104M) [text/csv]\n",
            "Saving to: ‘data/mnist_train.csv’\n",
            "\n",
            "mnist_train.csv     100%[===================>] 104.50M  41.5MB/s    in 2.5s    \n",
            "\n",
            "2025-01-11 13:50:12 (41.5 MB/s) - ‘data/mnist_train.csv’ saved [109575994/109575994]\n",
            "\n"
          ]
        }
      ],
      "source": [
        "# Download do dataset MNIST into data dir\n",
        "! wget https://pjreddie.com/media/files/mnist_train.csv -P data"
      ]
    },
    {
      "cell_type": "code",
      "execution_count": 3,
      "metadata": {
        "id": "VxNYhrZpkexI"
      },
      "outputs": [],
      "source": [
        "class MNISTDataset(Dataset):\n",
        "    def __init__(self, csv_file, transform=None):\n",
        "        self.data = pd.read_csv(csv_file, header=None)\n",
        "        self.transform = transform\n",
        "\n",
        "    def __len__(self):\n",
        "        return len(self.data)\n",
        "\n",
        "    def __getitem__(self, idx):\n",
        "        # A primeira coluna é o rótulo\n",
        "        label = self.data.iloc[idx, 0]\n",
        "        # As demais colunas são os pixels da imagem\n",
        "        image = self.data.iloc[idx, 1:].values.astype('uint8').reshape(28, 28)\n",
        "\n",
        "        if self.transform:\n",
        "            image = self.transform(image)\n",
        "\n",
        "        return image, label"
      ]
    },
    {
      "cell_type": "code",
      "execution_count": 5,
      "metadata": {
        "id": "RRUtv8zjkexJ"
      },
      "outputs": [],
      "source": [
        "# Transformação para converter a imagem para tensor\n",
        "transform = transforms.Compose([\n",
        "    transforms.ToTensor(),      # Convertendo a imagem PIL para tensor\n",
        "    transforms.Normalize((0.5,), (0.5,))  # Normalizando a imagem\n",
        "])\n",
        "\n",
        "# Criando o dataset\n",
        "mnist_dataset = MNISTDataset(\"./data/mnist_train.csv\", transform=transform)\n",
        "\n",
        "# # Transformação para converter a imagem para tensor\n",
        "# transform = transforms.Compose([\n",
        "#     transforms.ToPILImage(),    # Convertendo o array numpy para imagem PIL\n",
        "#     transforms.ToTensor(),      # Convertendo a imagem PIL para tensor\n",
        "#     transforms.Normalize((0.5,), (0.5,))  # Normalizando a imagem\n",
        "# ])\n",
        "\n",
        "# # Criando o dataset\n",
        "# mnist_dataset = MNISTDataset(\"./data/mnist_train.csv\", transform=transform)"
      ]
    },
    {
      "cell_type": "code",
      "execution_count": 6,
      "metadata": {
        "id": "RTi872SbkexK"
      },
      "outputs": [],
      "source": [
        "# Criando índices aleatórios para os subsets de treino e teste\n",
        "np.random.seed(42)\n",
        "indices = np.arange(len(mnist_dataset))\n",
        "np.random.shuffle(indices)\n",
        "\n",
        "# Dividindo os índices em trainset e testset\n",
        "num_train = 1000\n",
        "num_val = 500\n",
        "num_test = 500\n",
        "train_indices = indices[:num_train]  # Primeiros 1.000 índices para o trainset\n",
        "val_indices = indices[num_train:num_train+num_val]  # Próximos 500 índices para o valset\n",
        "test_indices = indices[num_train+num_val:num_train+num_val+num_test]  # Mais 500 para o testset\n",
        "\n",
        "trainset = Subset(mnist_dataset, train_indices)\n",
        "valset = Subset(mnist_dataset, val_indices)\n",
        "testset = Subset(mnist_dataset, test_indices)\n",
        "\n",
        "# Criando DataLoaders para os subsets\n",
        "trainloader = DataLoader(trainset, batch_size=64, shuffle=True)\n",
        "valloader = DataLoader(valset, batch_size=64, shuffle=False)\n",
        "testloader = DataLoader(testset, batch_size=64, shuffle=False)"
      ]
    },
    {
      "cell_type": "code",
      "execution_count": 7,
      "metadata": {
        "id": "orq2kN9SkexL"
      },
      "outputs": [],
      "source": [
        "def train_model(model, trainloader, valloader, criterion, optimizer, num_epochs=5):\n",
        "    history = {\n",
        "        'train_losses': [],\n",
        "        'val_losses': [],\n",
        "        'train_accuracies': [],\n",
        "        'val_accuracies': []\n",
        "    }\n",
        "\n",
        "    for epoch in range(num_epochs):\n",
        "        # Treinamento\n",
        "        model.train()\n",
        "        running_loss = 0.0\n",
        "        correct = 0\n",
        "        total = 0\n",
        "        for i, data in tqdm(enumerate(trainloader, 0), total=len(trainloader)):\n",
        "            inputs, labels = data\n",
        "\n",
        "            optimizer.zero_grad()\n",
        "\n",
        "            outputs = model(inputs)\n",
        "            loss = criterion(outputs, labels)\n",
        "            loss.backward()\n",
        "            optimizer.step()\n",
        "\n",
        "            running_loss += loss.item()\n",
        "            _, predicted = torch.max(outputs.data, 1)\n",
        "            total += labels.size(0)\n",
        "            correct += (predicted == labels).sum().item()\n",
        "\n",
        "        train_loss = running_loss / len(trainloader)\n",
        "        train_acc = 100 * correct / total\n",
        "        history['train_losses'].append(train_loss)\n",
        "        history['train_accuracies'].append(train_acc)\n",
        "        print(f'Epoch {epoch+1}, Train Loss: {train_loss:.3f}, Train Accuracy: {train_acc:.2f}%')\n",
        "\n",
        "        # Validação\n",
        "        model.eval()\n",
        "        val_running_loss = 0.0\n",
        "        correct = 0\n",
        "        total = 0\n",
        "        with torch.no_grad():\n",
        "            for data in valloader:\n",
        "                inputs, labels = data\n",
        "                outputs = model(inputs)\n",
        "                loss = criterion(outputs, labels)\n",
        "                val_running_loss += loss.item()\n",
        "                _, predicted = torch.max(outputs.data, 1)\n",
        "                total += labels.size(0)\n",
        "                correct += (predicted == labels).sum().item()\n",
        "\n",
        "        val_loss = val_running_loss / len(valloader)\n",
        "        val_acc = 100 * correct / total\n",
        "        history['val_losses'].append(val_loss)\n",
        "        history['val_accuracies'].append(val_acc)\n",
        "        print(f'Epoch {epoch+1}, Val Loss: {val_loss:.3f}, Val Accuracy: {val_acc:.2f}%')\n",
        "\n",
        "    print('Treinamento concluído')\n",
        "    return history\n",
        "\n",
        "\n",
        "def test_model(model, testloader):\n",
        "    correct = 0\n",
        "    total = 0\n",
        "    with torch.no_grad():\n",
        "        for data in testloader:\n",
        "            images, labels = data\n",
        "            outputs = model(images)\n",
        "            _, predicted = torch.max(outputs.data, 1)\n",
        "            total += labels.size(0)\n",
        "            correct += (predicted == labels).sum().item()\n",
        "\n",
        "    print(f'Acurácia da rede na base de teste: {100 * correct / total:.2f}%')"
      ]
    },
    {
      "cell_type": "code",
      "execution_count": 25,
      "metadata": {
        "id": "1yITTgk0kexM"
      },
      "outputs": [],
      "source": [
        "class CNN(nn.Module):\n",
        "    def __init__(self, initialize_weights=True, dropout=0.2, num_filters_1=6, num_filters_2=12, num_hidden_neurons=64):\n",
        "        super(CNN, self).__init__()\n",
        "        #self.num_filters_1 = num_filters_1\n",
        "        self.num_filters_2 = num_filters_2\n",
        "        self.conv1 = nn.Conv2d(1, num_filters_1, 5)\n",
        "        self.conv2 = nn.Conv2d(num_filters_1, num_filters_2, 5)\n",
        "        self.fc1 = nn.Linear(num_filters_2 * 4 * 4, num_hidden_neurons)\n",
        "        self.fc2 = nn.Linear(num_hidden_neurons, 10)\n",
        "        self.dropout = nn.Dropout(dropout)\n",
        "\n",
        "        if initialize_weights:\n",
        "            self._initialize_weights()\n",
        "\n",
        "    def forward(self, x):\n",
        "        # CNN\n",
        "        x = F.relu(self.conv1(x))\n",
        "        x = F.max_pool2d(x, 2, 2)\n",
        "        x = F.relu(self.conv2(x))\n",
        "        x = F.max_pool2d(x, 2, 2)\n",
        "\n",
        "        # Flatten\n",
        "        x = x.view(-1, self.num_filters_2 * 4 * 4)\n",
        "        x = self.dropout(F.relu(self.fc1(x)))\n",
        "        x = self.fc2(x)\n",
        "\n",
        "        return x\n",
        "\n",
        "    def _initialize_weights(self):\n",
        "        for m in self.modules():\n",
        "            if isinstance(m, nn.Conv2d) or isinstance(m, nn.Linear):\n",
        "                nn.init.xavier_normal_(m.weight)\n",
        "                if m.bias is not None:\n",
        "                    nn.init.constant_(m.bias, 0)"
      ]
    },
    {
      "cell_type": "code",
      "execution_count": 9,
      "metadata": {
        "id": "WJsaauQ8kexO"
      },
      "outputs": [],
      "source": [
        "model = CNN(\n",
        "    initialize_weights=True,\n",
        "    dropout=0.2\n",
        ")"
      ]
    },
    {
      "cell_type": "code",
      "execution_count": 10,
      "metadata": {
        "id": "LO7iac6EkexP"
      },
      "outputs": [],
      "source": [
        "criterion = nn.CrossEntropyLoss()\n",
        "optimizer = optim.SGD(model.parameters(), lr=0.01, momentum=0.9)"
      ]
    },
    {
      "cell_type": "code",
      "execution_count": 11,
      "metadata": {
        "id": "v6U0Yka7kexS",
        "colab": {
          "base_uri": "https://localhost:8080/"
        },
        "outputId": "88bcbdfa-9d3a-43c6-cb7a-0bd2ba55cab4"
      },
      "outputs": [
        {
          "output_type": "stream",
          "name": "stderr",
          "text": [
            "100%|██████████| 16/16 [00:01<00:00, 15.49it/s]\n"
          ]
        },
        {
          "output_type": "stream",
          "name": "stdout",
          "text": [
            "Epoch 1, Train Loss: 2.269, Train Accuracy: 16.10%\n",
            "Epoch 1, Val Loss: 2.129, Val Accuracy: 23.60%\n"
          ]
        },
        {
          "output_type": "stream",
          "name": "stderr",
          "text": [
            "100%|██████████| 16/16 [00:00<00:00, 32.30it/s]\n"
          ]
        },
        {
          "output_type": "stream",
          "name": "stdout",
          "text": [
            "Epoch 2, Train Loss: 1.860, Train Accuracy: 36.50%\n",
            "Epoch 2, Val Loss: 1.431, Val Accuracy: 51.40%\n"
          ]
        },
        {
          "output_type": "stream",
          "name": "stderr",
          "text": [
            "100%|██████████| 16/16 [00:00<00:00, 30.61it/s]\n"
          ]
        },
        {
          "output_type": "stream",
          "name": "stdout",
          "text": [
            "Epoch 3, Train Loss: 1.184, Train Accuracy: 60.30%\n",
            "Epoch 3, Val Loss: 0.753, Val Accuracy: 75.00%\n"
          ]
        },
        {
          "output_type": "stream",
          "name": "stderr",
          "text": [
            "100%|██████████| 16/16 [00:00<00:00, 30.93it/s]\n"
          ]
        },
        {
          "output_type": "stream",
          "name": "stdout",
          "text": [
            "Epoch 4, Train Loss: 0.696, Train Accuracy: 75.50%\n",
            "Epoch 4, Val Loss: 0.447, Val Accuracy: 87.20%\n"
          ]
        },
        {
          "output_type": "stream",
          "name": "stderr",
          "text": [
            "100%|██████████| 16/16 [00:00<00:00, 31.44it/s]\n"
          ]
        },
        {
          "output_type": "stream",
          "name": "stdout",
          "text": [
            "Epoch 5, Train Loss: 0.527, Train Accuracy: 83.50%\n",
            "Epoch 5, Val Loss: 0.402, Val Accuracy: 89.60%\n",
            "Treinamento concluído\n"
          ]
        }
      ],
      "source": [
        "# Treinando a CNN\n",
        "history = train_model(\n",
        "    model=model,\n",
        "    trainloader=trainloader,\n",
        "    valloader=valloader,\n",
        "    criterion=criterion,\n",
        "    optimizer=optimizer\n",
        ")"
      ]
    },
    {
      "cell_type": "code",
      "source": [
        "history"
      ],
      "metadata": {
        "colab": {
          "base_uri": "https://localhost:8080/"
        },
        "id": "3UHVTzn8pcbV",
        "outputId": "80728b12-e385-4fcc-c97f-fa5bb0d0a8a0"
      },
      "execution_count": 12,
      "outputs": [
        {
          "output_type": "execute_result",
          "data": {
            "text/plain": [
              "{'train_losses': [2.268563285470009,\n",
              "  1.8596483543515205,\n",
              "  1.1842647083103657,\n",
              "  0.6958825271576643,\n",
              "  0.5273925615474582],\n",
              " 'val_losses': [2.1286356151103973,\n",
              "  1.4305216073989868,\n",
              "  0.7533402219414711,\n",
              "  0.44681341573596,\n",
              "  0.40178731828927994],\n",
              " 'train_accuracies': [16.1, 36.5, 60.3, 75.5, 83.5],\n",
              " 'val_accuracies': [23.6, 51.4, 75.0, 87.2, 89.6]}"
            ]
          },
          "metadata": {},
          "execution_count": 12
        }
      ]
    },
    {
      "cell_type": "code",
      "execution_count": 13,
      "metadata": {
        "id": "zSCK2P3LkexT",
        "colab": {
          "base_uri": "https://localhost:8080/",
          "height": 507
        },
        "outputId": "d2c0998f-2f9c-40a4-d99e-3a950f5a5a18"
      },
      "outputs": [
        {
          "output_type": "display_data",
          "data": {
            "text/plain": [
              "<Figure size 1200x500 with 2 Axes>"
            ],
            "image/png": "[encoded data removed]"
          },
          "metadata": {}
        }
      ],
      "source": [
        "epochs = range(1, len(history['train_losses']) + 1)\n",
        "\n",
        "# Plot de losses\n",
        "plt.figure(figsize=(12, 5))\n",
        "\n",
        "plt.subplot(1, 2, 1)\n",
        "plt.grid()\n",
        "plt.plot(epochs, history['train_losses'], label='Train Loss')\n",
        "plt.plot(epochs, history['val_losses'], label='Validation Loss')\n",
        "plt.xlabel('Epochs')\n",
        "plt.ylabel('Loss')\n",
        "plt.title('Training and Validation Loss')\n",
        "plt.legend()\n",
        "\n",
        "# Plot de accuracies\n",
        "plt.subplot(1, 2, 2)\n",
        "plt.grid()\n",
        "plt.plot(epochs, history['train_accuracies'], label='Train Accuracy')\n",
        "plt.plot(epochs, history['val_accuracies'], label='Validation Accuracy')\n",
        "plt.xlabel('Epochs')\n",
        "plt.ylabel('Accuracy')\n",
        "plt.title('Training and Validation Accuracy')\n",
        "plt.legend()\n",
        "\n",
        "plt.tight_layout()\n",
        "plt.show()"
      ]
    },
    {
      "cell_type": "code",
      "execution_count": 14,
      "metadata": {
        "id": "9UcFuzyYkexT",
        "colab": {
          "base_uri": "https://localhost:8080/"
        },
        "outputId": "5fd20de1-5b36-4a4b-f935-c63c3cdfa33c"
      },
      "outputs": [
        {
          "output_type": "stream",
          "name": "stdout",
          "text": [
            "Acurácia da rede na base de teste: 89.40%\n"
          ]
        }
      ],
      "source": [
        "test_model(model, testloader)"
      ]
    },
    {
      "cell_type": "markdown",
      "metadata": {
        "id": "Bnu7S-xtkexT"
      },
      "source": [
        "## Exercícios"
      ]
    },
    {
      "cell_type": "markdown",
      "metadata": {
        "id": "pfcoNz_FkexV"
      },
      "source": [
        "### Exercício 1\n",
        "Na CNN implementada, execute experimentos variando:\n",
        "- O número de filtros convolucionais em `self.conv1` (6 e 8)\n",
        "- O número de filtros convolucionais em `self.conv2` (12 e 16)\n",
        "\n",
        "Ao final, observe qual combinação desempenha melhor no conjunto de testes.\n",
        "\n",
        "Dica: Adicionar argumentos no construtor da classe para determinar o número de filtros em cada camada pode ser útil para inicializar diversos modelos."
      ]
    },
    {
      "cell_type": "code",
      "source": [
        "# Exercício 01\n",
        "\n",
        "parameters_combination = [\n",
        "    (2,4),\n",
        "    (2,16),\n",
        "    (8,4),\n",
        "    (8,16),\n",
        "]\n",
        "\n",
        "for num_filters_1, num_filters_2 in parameters_combination:\n",
        "\n",
        "    print(f'Número de filtros em num_filters_1 e num_filters_2: {num_filters_1} e {num_filters_2}')\n",
        "\n",
        "    model_ex1 = CNN(\n",
        "        initialize_weights=True,\n",
        "        dropout=0.2,\n",
        "        num_filters_1=num_filters_1,\n",
        "        num_filters_2=num_filters_2\n",
        "    )\n",
        "\n",
        "    criterion = nn.CrossEntropyLoss()\n",
        "    optimizer = optim.SGD(model_ex1.parameters(), lr=0.01, momentum=0.9)\n",
        "\n",
        "    # Treinando a CNN\n",
        "    history = train_model(\n",
        "        model=model_ex1,\n",
        "        trainloader=trainloader,\n",
        "        valloader=valloader,\n",
        "        criterion=criterion,\n",
        "        optimizer=optimizer\n",
        "    )\n",
        "\n",
        "    test_model(model_ex1, testloader)\n",
        "    print('\\n')"
      ],
      "metadata": {
        "colab": {
          "base_uri": "https://localhost:8080/"
        },
        "id": "39VeaJpJq-OQ",
        "outputId": "967e9bdb-3cef-4d09-e07a-c088a9d81000"
      },
      "execution_count": 23,
      "outputs": [
        {
          "output_type": "stream",
          "name": "stdout",
          "text": [
            "Número de filtros em num_filters_1 e num_filters_2: 2 e 4\n"
          ]
        },
        {
          "output_type": "stream",
          "name": "stderr",
          "text": [
            "100%|██████████| 16/16 [00:00<00:00, 34.41it/s]\n"
          ]
        },
        {
          "output_type": "stream",
          "name": "stdout",
          "text": [
            "Epoch 1, Train Loss: 2.279, Train Accuracy: 13.60%\n",
            "Epoch 1, Val Loss: 2.160, Val Accuracy: 26.40%\n"
          ]
        },
        {
          "output_type": "stream",
          "name": "stderr",
          "text": [
            "100%|██████████| 16/16 [00:00<00:00, 35.27it/s]\n"
          ]
        },
        {
          "output_type": "stream",
          "name": "stdout",
          "text": [
            "Epoch 2, Train Loss: 2.062, Train Accuracy: 27.50%\n",
            "Epoch 2, Val Loss: 1.656, Val Accuracy: 52.60%\n"
          ]
        },
        {
          "output_type": "stream",
          "name": "stderr",
          "text": [
            "100%|██████████| 16/16 [00:00<00:00, 32.94it/s]\n"
          ]
        },
        {
          "output_type": "stream",
          "name": "stdout",
          "text": [
            "Epoch 3, Train Loss: 1.382, Train Accuracy: 52.70%\n",
            "Epoch 3, Val Loss: 0.878, Val Accuracy: 73.60%\n"
          ]
        },
        {
          "output_type": "stream",
          "name": "stderr",
          "text": [
            "100%|██████████| 16/16 [00:00<00:00, 34.58it/s]\n"
          ]
        },
        {
          "output_type": "stream",
          "name": "stdout",
          "text": [
            "Epoch 4, Train Loss: 0.892, Train Accuracy: 71.30%\n",
            "Epoch 4, Val Loss: 0.603, Val Accuracy: 80.60%\n"
          ]
        },
        {
          "output_type": "stream",
          "name": "stderr",
          "text": [
            "100%|██████████| 16/16 [00:00<00:00, 33.88it/s]\n"
          ]
        },
        {
          "output_type": "stream",
          "name": "stdout",
          "text": [
            "Epoch 5, Train Loss: 0.667, Train Accuracy: 76.40%\n",
            "Epoch 5, Val Loss: 0.472, Val Accuracy: 87.00%\n",
            "Treinamento concluído\n",
            "Acurácia da rede na base de teste: 86.40%\n",
            "\n",
            "\n",
            "Número de filtros em num_filters_1 e num_filters_2: 2 e 16\n"
          ]
        },
        {
          "output_type": "stream",
          "name": "stderr",
          "text": [
            "100%|██████████| 16/16 [00:00<00:00, 30.57it/s]\n"
          ]
        },
        {
          "output_type": "stream",
          "name": "stdout",
          "text": [
            "Epoch 1, Train Loss: 2.285, Train Accuracy: 13.20%\n",
            "Epoch 1, Val Loss: 2.238, Val Accuracy: 26.80%\n"
          ]
        },
        {
          "output_type": "stream",
          "name": "stderr",
          "text": [
            "100%|██████████| 16/16 [00:00<00:00, 31.75it/s]\n"
          ]
        },
        {
          "output_type": "stream",
          "name": "stdout",
          "text": [
            "Epoch 2, Train Loss: 2.141, Train Accuracy: 30.80%\n",
            "Epoch 2, Val Loss: 1.960, Val Accuracy: 45.60%\n"
          ]
        },
        {
          "output_type": "stream",
          "name": "stderr",
          "text": [
            "100%|██████████| 16/16 [00:00<00:00, 32.94it/s]\n"
          ]
        },
        {
          "output_type": "stream",
          "name": "stdout",
          "text": [
            "Epoch 3, Train Loss: 1.588, Train Accuracy: 50.80%\n",
            "Epoch 3, Val Loss: 0.997, Val Accuracy: 75.20%\n"
          ]
        },
        {
          "output_type": "stream",
          "name": "stderr",
          "text": [
            "100%|██████████| 16/16 [00:00<00:00, 23.77it/s]\n"
          ]
        },
        {
          "output_type": "stream",
          "name": "stdout",
          "text": [
            "Epoch 4, Train Loss: 0.894, Train Accuracy: 67.70%\n",
            "Epoch 4, Val Loss: 0.600, Val Accuracy: 79.80%\n"
          ]
        },
        {
          "output_type": "stream",
          "name": "stderr",
          "text": [
            "100%|██████████| 16/16 [00:00<00:00, 22.07it/s]\n"
          ]
        },
        {
          "output_type": "stream",
          "name": "stdout",
          "text": [
            "Epoch 5, Train Loss: 0.580, Train Accuracy: 80.80%\n",
            "Epoch 5, Val Loss: 0.465, Val Accuracy: 85.60%\n",
            "Treinamento concluído\n",
            "Acurácia da rede na base de teste: 87.00%\n",
            "\n",
            "\n",
            "Número de filtros em num_filters_1 e num_filters_2: 8 e 4\n"
          ]
        },
        {
          "output_type": "stream",
          "name": "stderr",
          "text": [
            "100%|██████████| 16/16 [00:00<00:00, 19.70it/s]\n"
          ]
        },
        {
          "output_type": "stream",
          "name": "stdout",
          "text": [
            "Epoch 1, Train Loss: 2.242, Train Accuracy: 19.90%\n",
            "Epoch 1, Val Loss: 2.075, Val Accuracy: 28.40%\n"
          ]
        },
        {
          "output_type": "stream",
          "name": "stderr",
          "text": [
            "100%|██████████| 16/16 [00:00<00:00, 19.03it/s]\n"
          ]
        },
        {
          "output_type": "stream",
          "name": "stdout",
          "text": [
            "Epoch 2, Train Loss: 1.834, Train Accuracy: 35.30%\n",
            "Epoch 2, Val Loss: 1.409, Val Accuracy: 53.00%\n"
          ]
        },
        {
          "output_type": "stream",
          "name": "stderr",
          "text": [
            "100%|██████████| 16/16 [00:00<00:00, 32.34it/s]\n"
          ]
        },
        {
          "output_type": "stream",
          "name": "stdout",
          "text": [
            "Epoch 3, Train Loss: 1.221, Train Accuracy: 57.90%\n",
            "Epoch 3, Val Loss: 0.895, Val Accuracy: 71.80%\n"
          ]
        },
        {
          "output_type": "stream",
          "name": "stderr",
          "text": [
            "100%|██████████| 16/16 [00:00<00:00, 31.06it/s]\n"
          ]
        },
        {
          "output_type": "stream",
          "name": "stdout",
          "text": [
            "Epoch 4, Train Loss: 0.894, Train Accuracy: 68.80%\n",
            "Epoch 4, Val Loss: 0.696, Val Accuracy: 77.00%\n"
          ]
        },
        {
          "output_type": "stream",
          "name": "stderr",
          "text": [
            "100%|██████████| 16/16 [00:00<00:00, 31.25it/s]\n"
          ]
        },
        {
          "output_type": "stream",
          "name": "stdout",
          "text": [
            "Epoch 5, Train Loss: 0.671, Train Accuracy: 76.90%\n",
            "Epoch 5, Val Loss: 0.586, Val Accuracy: 79.20%\n",
            "Treinamento concluído\n",
            "Acurácia da rede na base de teste: 79.00%\n",
            "\n",
            "\n",
            "Número de filtros em num_filters_1 e num_filters_2: 8 e 16\n"
          ]
        },
        {
          "output_type": "stream",
          "name": "stderr",
          "text": [
            "100%|██████████| 16/16 [00:00<00:00, 30.27it/s]\n"
          ]
        },
        {
          "output_type": "stream",
          "name": "stdout",
          "text": [
            "Epoch 1, Train Loss: 2.264, Train Accuracy: 15.00%\n",
            "Epoch 1, Val Loss: 2.163, Val Accuracy: 33.20%\n"
          ]
        },
        {
          "output_type": "stream",
          "name": "stderr",
          "text": [
            "100%|██████████| 16/16 [00:00<00:00, 29.66it/s]\n"
          ]
        },
        {
          "output_type": "stream",
          "name": "stdout",
          "text": [
            "Epoch 2, Train Loss: 1.992, Train Accuracy: 36.70%\n",
            "Epoch 2, Val Loss: 1.642, Val Accuracy: 52.20%\n"
          ]
        },
        {
          "output_type": "stream",
          "name": "stderr",
          "text": [
            "100%|██████████| 16/16 [00:00<00:00, 29.74it/s]\n"
          ]
        },
        {
          "output_type": "stream",
          "name": "stdout",
          "text": [
            "Epoch 3, Train Loss: 1.298, Train Accuracy: 58.00%\n",
            "Epoch 3, Val Loss: 0.773, Val Accuracy: 78.40%\n"
          ]
        },
        {
          "output_type": "stream",
          "name": "stderr",
          "text": [
            "100%|██████████| 16/16 [00:00<00:00, 29.89it/s]\n"
          ]
        },
        {
          "output_type": "stream",
          "name": "stdout",
          "text": [
            "Epoch 4, Train Loss: 0.721, Train Accuracy: 75.10%\n",
            "Epoch 4, Val Loss: 0.497, Val Accuracy: 85.20%\n"
          ]
        },
        {
          "output_type": "stream",
          "name": "stderr",
          "text": [
            "100%|██████████| 16/16 [00:00<00:00, 29.46it/s]\n"
          ]
        },
        {
          "output_type": "stream",
          "name": "stdout",
          "text": [
            "Epoch 5, Train Loss: 0.487, Train Accuracy: 82.50%\n",
            "Epoch 5, Val Loss: 0.411, Val Accuracy: 87.20%\n",
            "Treinamento concluído\n",
            "Acurácia da rede na base de teste: 89.00%\n",
            "\n",
            "\n"
          ]
        }
      ]
    },
    {
      "cell_type": "markdown",
      "metadata": {
        "id": "IOTbOBIlkexV"
      },
      "source": [
        "### Exercício 2\n",
        "\n",
        "Na CNN implementada, execute 5 treinamentos variando aleatoriamente o número de neurônios de saída em `self.fc1` (o valor atual é 64 e também deve ser alterado na entrada da próxima camada).\n",
        "\n",
        "Como você determinaria qual foi o melhor valor?"
      ]
    },
    {
      "cell_type": "code",
      "execution_count": 30,
      "metadata": {
        "id": "9HjZuAdjkexV",
        "colab": {
          "base_uri": "https://localhost:8080/"
        },
        "outputId": "febb7e1b-f440-47d6-f2d4-c4aaa3ca0cbe"
      },
      "outputs": [
        {
          "output_type": "stream",
          "name": "stderr",
          "text": [
            "100%|██████████| 16/16 [00:00<00:00, 22.05it/s]\n"
          ]
        },
        {
          "output_type": "stream",
          "name": "stdout",
          "text": [
            "Epoch 1, Train Loss: 2.299, Train Accuracy: 14.00%\n",
            "Epoch 1, Val Loss: 2.246, Val Accuracy: 24.00%\n"
          ]
        },
        {
          "output_type": "stream",
          "name": "stderr",
          "text": [
            "100%|██████████| 16/16 [00:00<00:00, 20.12it/s]\n"
          ]
        },
        {
          "output_type": "stream",
          "name": "stdout",
          "text": [
            "Epoch 2, Train Loss: 2.115, Train Accuracy: 28.30%\n",
            "Epoch 2, Val Loss: 1.952, Val Accuracy: 33.40%\n"
          ]
        },
        {
          "output_type": "stream",
          "name": "stderr",
          "text": [
            "100%|██████████| 16/16 [00:00<00:00, 19.18it/s]\n"
          ]
        },
        {
          "output_type": "stream",
          "name": "stdout",
          "text": [
            "Epoch 3, Train Loss: 1.593, Train Accuracy: 50.70%\n",
            "Epoch 3, Val Loss: 1.052, Val Accuracy: 70.60%\n"
          ]
        },
        {
          "output_type": "stream",
          "name": "stderr",
          "text": [
            "100%|██████████| 16/16 [00:00<00:00, 29.81it/s]\n"
          ]
        },
        {
          "output_type": "stream",
          "name": "stdout",
          "text": [
            "Epoch 4, Train Loss: 0.945, Train Accuracy: 67.20%\n",
            "Epoch 4, Val Loss: 0.575, Val Accuracy: 82.80%\n"
          ]
        },
        {
          "output_type": "stream",
          "name": "stderr",
          "text": [
            "100%|██████████| 16/16 [00:00<00:00, 29.60it/s]\n"
          ]
        },
        {
          "output_type": "stream",
          "name": "stdout",
          "text": [
            "Epoch 5, Train Loss: 0.587, Train Accuracy: 79.60%\n",
            "Epoch 5, Val Loss: 0.401, Val Accuracy: 88.40%\n",
            "Treinamento concluído\n",
            "Acurácia da rede na base de teste: 89.20%\n",
            "Número de neurônios na camada fully connected: 58\n",
            "\n"
          ]
        },
        {
          "output_type": "stream",
          "name": "stderr",
          "text": [
            "100%|██████████| 16/16 [00:00<00:00, 30.20it/s]\n"
          ]
        },
        {
          "output_type": "stream",
          "name": "stdout",
          "text": [
            "Epoch 1, Train Loss: 2.270, Train Accuracy: 20.10%\n",
            "Epoch 1, Val Loss: 2.129, Val Accuracy: 38.20%\n"
          ]
        },
        {
          "output_type": "stream",
          "name": "stderr",
          "text": [
            "100%|██████████| 16/16 [00:00<00:00, 29.56it/s]\n"
          ]
        },
        {
          "output_type": "stream",
          "name": "stdout",
          "text": [
            "Epoch 2, Train Loss: 1.876, Train Accuracy: 41.60%\n",
            "Epoch 2, Val Loss: 1.372, Val Accuracy: 55.80%\n"
          ]
        },
        {
          "output_type": "stream",
          "name": "stderr",
          "text": [
            "100%|██████████| 16/16 [00:00<00:00, 30.39it/s]\n"
          ]
        },
        {
          "output_type": "stream",
          "name": "stdout",
          "text": [
            "Epoch 3, Train Loss: 1.213, Train Accuracy: 56.30%\n",
            "Epoch 3, Val Loss: 0.880, Val Accuracy: 70.20%\n"
          ]
        },
        {
          "output_type": "stream",
          "name": "stderr",
          "text": [
            "100%|██████████| 16/16 [00:00<00:00, 30.53it/s]\n"
          ]
        },
        {
          "output_type": "stream",
          "name": "stdout",
          "text": [
            "Epoch 4, Train Loss: 0.890, Train Accuracy: 69.40%\n",
            "Epoch 4, Val Loss: 0.660, Val Accuracy: 79.60%\n"
          ]
        },
        {
          "output_type": "stream",
          "name": "stderr",
          "text": [
            "100%|██████████| 16/16 [00:00<00:00, 29.95it/s]\n"
          ]
        },
        {
          "output_type": "stream",
          "name": "stdout",
          "text": [
            "Epoch 5, Train Loss: 0.635, Train Accuracy: 77.80%\n",
            "Epoch 5, Val Loss: 0.519, Val Accuracy: 84.60%\n",
            "Treinamento concluído\n",
            "Acurácia da rede na base de teste: 85.40%\n",
            "Número de neurônios na camada fully connected: 48\n",
            "\n"
          ]
        },
        {
          "output_type": "stream",
          "name": "stderr",
          "text": [
            "100%|██████████| 16/16 [00:00<00:00, 30.20it/s]\n"
          ]
        },
        {
          "output_type": "stream",
          "name": "stdout",
          "text": [
            "Epoch 1, Train Loss: 2.288, Train Accuracy: 15.20%\n",
            "Epoch 1, Val Loss: 2.184, Val Accuracy: 35.80%\n"
          ]
        },
        {
          "output_type": "stream",
          "name": "stderr",
          "text": [
            "100%|██████████| 16/16 [00:00<00:00, 30.36it/s]\n"
          ]
        },
        {
          "output_type": "stream",
          "name": "stdout",
          "text": [
            "Epoch 2, Train Loss: 2.006, Train Accuracy: 43.10%\n",
            "Epoch 2, Val Loss: 1.660, Val Accuracy: 61.40%\n"
          ]
        },
        {
          "output_type": "stream",
          "name": "stderr",
          "text": [
            "100%|██████████| 16/16 [00:00<00:00, 30.76it/s]\n"
          ]
        },
        {
          "output_type": "stream",
          "name": "stdout",
          "text": [
            "Epoch 3, Train Loss: 1.275, Train Accuracy: 59.60%\n",
            "Epoch 3, Val Loss: 0.740, Val Accuracy: 79.00%\n"
          ]
        },
        {
          "output_type": "stream",
          "name": "stderr",
          "text": [
            "100%|██████████| 16/16 [00:00<00:00, 30.58it/s]\n"
          ]
        },
        {
          "output_type": "stream",
          "name": "stdout",
          "text": [
            "Epoch 4, Train Loss: 0.698, Train Accuracy: 76.50%\n",
            "Epoch 4, Val Loss: 0.494, Val Accuracy: 84.80%\n"
          ]
        },
        {
          "output_type": "stream",
          "name": "stderr",
          "text": [
            "100%|██████████| 16/16 [00:00<00:00, 29.81it/s]\n"
          ]
        },
        {
          "output_type": "stream",
          "name": "stdout",
          "text": [
            "Epoch 5, Train Loss: 0.465, Train Accuracy: 84.60%\n",
            "Epoch 5, Val Loss: 0.443, Val Accuracy: 86.20%\n",
            "Treinamento concluído\n",
            "Acurácia da rede na base de teste: 89.60%\n",
            "Número de neurônios na camada fully connected: 70\n",
            "\n"
          ]
        },
        {
          "output_type": "stream",
          "name": "stderr",
          "text": [
            "100%|██████████| 16/16 [00:00<00:00, 23.19it/s]\n"
          ]
        },
        {
          "output_type": "stream",
          "name": "stdout",
          "text": [
            "Epoch 1, Train Loss: 2.283, Train Accuracy: 16.00%\n",
            "Epoch 1, Val Loss: 2.196, Val Accuracy: 18.00%\n"
          ]
        },
        {
          "output_type": "stream",
          "name": "stderr",
          "text": [
            "100%|██████████| 16/16 [00:00<00:00, 21.67it/s]\n"
          ]
        },
        {
          "output_type": "stream",
          "name": "stdout",
          "text": [
            "Epoch 2, Train Loss: 2.066, Train Accuracy: 28.60%\n",
            "Epoch 2, Val Loss: 1.852, Val Accuracy: 35.40%\n"
          ]
        },
        {
          "output_type": "stream",
          "name": "stderr",
          "text": [
            "100%|██████████| 16/16 [00:00<00:00, 20.27it/s]\n"
          ]
        },
        {
          "output_type": "stream",
          "name": "stdout",
          "text": [
            "Epoch 3, Train Loss: 1.660, Train Accuracy: 41.50%\n",
            "Epoch 3, Val Loss: 1.296, Val Accuracy: 61.00%\n"
          ]
        },
        {
          "output_type": "stream",
          "name": "stderr",
          "text": [
            "100%|██████████| 16/16 [00:00<00:00, 19.61it/s]\n"
          ]
        },
        {
          "output_type": "stream",
          "name": "stdout",
          "text": [
            "Epoch 4, Train Loss: 1.226, Train Accuracy: 59.20%\n",
            "Epoch 4, Val Loss: 0.834, Val Accuracy: 73.80%\n"
          ]
        },
        {
          "output_type": "stream",
          "name": "stderr",
          "text": [
            "100%|██████████| 16/16 [00:00<00:00, 29.15it/s]\n"
          ]
        },
        {
          "output_type": "stream",
          "name": "stdout",
          "text": [
            "Epoch 5, Train Loss: 1.002, Train Accuracy: 65.30%\n",
            "Epoch 5, Val Loss: 0.635, Val Accuracy: 81.40%\n",
            "Treinamento concluído\n",
            "Acurácia da rede na base de teste: 84.00%\n",
            "Número de neurônios na camada fully connected: 19\n",
            "\n"
          ]
        },
        {
          "output_type": "stream",
          "name": "stderr",
          "text": [
            "100%|██████████| 16/16 [00:00<00:00, 31.66it/s]\n"
          ]
        },
        {
          "output_type": "stream",
          "name": "stdout",
          "text": [
            "Epoch 1, Train Loss: 2.282, Train Accuracy: 17.00%\n",
            "Epoch 1, Val Loss: 2.152, Val Accuracy: 37.20%\n"
          ]
        },
        {
          "output_type": "stream",
          "name": "stderr",
          "text": [
            "100%|██████████| 16/16 [00:00<00:00, 29.44it/s]\n"
          ]
        },
        {
          "output_type": "stream",
          "name": "stdout",
          "text": [
            "Epoch 2, Train Loss: 1.971, Train Accuracy: 40.00%\n",
            "Epoch 2, Val Loss: 1.606, Val Accuracy: 57.40%\n"
          ]
        },
        {
          "output_type": "stream",
          "name": "stderr",
          "text": [
            "100%|██████████| 16/16 [00:00<00:00, 28.01it/s]\n"
          ]
        },
        {
          "output_type": "stream",
          "name": "stdout",
          "text": [
            "Epoch 3, Train Loss: 1.339, Train Accuracy: 57.20%\n",
            "Epoch 3, Val Loss: 0.823, Val Accuracy: 77.00%\n"
          ]
        },
        {
          "output_type": "stream",
          "name": "stderr",
          "text": [
            "100%|██████████| 16/16 [00:00<00:00, 31.32it/s]\n"
          ]
        },
        {
          "output_type": "stream",
          "name": "stdout",
          "text": [
            "Epoch 4, Train Loss: 0.831, Train Accuracy: 71.70%\n",
            "Epoch 4, Val Loss: 0.556, Val Accuracy: 83.40%\n"
          ]
        },
        {
          "output_type": "stream",
          "name": "stderr",
          "text": [
            "100%|██████████| 16/16 [00:00<00:00, 31.64it/s]\n"
          ]
        },
        {
          "output_type": "stream",
          "name": "stdout",
          "text": [
            "Epoch 5, Train Loss: 0.589, Train Accuracy: 81.30%\n",
            "Epoch 5, Val Loss: 0.469, Val Accuracy: 85.20%\n",
            "Treinamento concluído\n",
            "Acurácia da rede na base de teste: 85.80%\n",
            "Número de neurônios na camada fully connected: 49\n",
            "\n"
          ]
        }
      ],
      "source": [
        "for i in range(5):\n",
        "    num_neurons = np.random.randint(10, 100)\n",
        "\n",
        "    model_ex2 = CNN(\n",
        "        initialize_weights=True,\n",
        "        dropout=0.2,\n",
        "        num_hidden_neurons=num_neurons\n",
        "    )\n",
        "\n",
        "    #print (model_ex2)\n",
        "\n",
        "    criterion = nn.CrossEntropyLoss()\n",
        "    optimizer = optim.SGD(model_ex2.parameters(), lr=0.01, momentum=0.9)\n",
        "\n",
        "    # Treinando a CNN\n",
        "    history = train_model(\n",
        "        model=model_ex2,\n",
        "        trainloader=trainloader,\n",
        "        valloader=valloader,\n",
        "        criterion=criterion,\n",
        "        optimizer=optimizer\n",
        "    )\n",
        "\n",
        "    test_model(model_ex2, testloader)\n",
        "    print(f'Número de neurônios na camada fully connected: {num_neurons}\\n')"
      ]
    }
  ],
  "metadata": {
    "kernelspec": {
      "display_name": "base",
      "language": "python",
      "name": "python3"
    },
    "language_info": {
      "codemirror_mode": {
        "name": "ipython",
        "version": 3
      },
      "file_extension": ".py",
      "mimetype": "text/x-python",
      "name": "python",
      "nbconvert_exporter": "python",
      "pygments_lexer": "ipython3",
      "version": "3.10.13"
    },
    "colab": {
      "provenance": []
    }
  },
  "nbformat": 4,
  "nbformat_minor": 0
}